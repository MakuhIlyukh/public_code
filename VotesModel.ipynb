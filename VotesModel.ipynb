{
 "cells": [
  {
   "cell_type": "markdown",
   "metadata": {},
   "source": [
    "# Рекомендательная система, построенная на 35 млн оценках от 60000 юзеров Кинопоиска"
   ]
  },
  {
   "cell_type": "code",
   "execution_count": 1,
   "metadata": {},
   "outputs": [],
   "source": [
    "import numpy as np\n",
    "import pandas as pd"
   ]
  },
  {
   "cell_type": "code",
   "execution_count": null,
   "metadata": {},
   "outputs": [],
   "source": []
  },
  {
   "cell_type": "markdown",
   "metadata": {},
   "source": [
    "# Загрузка базового датафрейма"
   ]
  },
  {
   "cell_type": "code",
   "execution_count": 2,
   "metadata": {},
   "outputs": [
    {
     "data": {
      "text/html": [
       "<div>\n",
       "<style scoped>\n",
       "    .dataframe tbody tr th:only-of-type {\n",
       "        vertical-align: middle;\n",
       "    }\n",
       "\n",
       "    .dataframe tbody tr th {\n",
       "        vertical-align: top;\n",
       "    }\n",
       "\n",
       "    .dataframe thead th {\n",
       "        text-align: right;\n",
       "    }\n",
       "</style>\n",
       "<table border=\"1\" class=\"dataframe\">\n",
       "  <thead>\n",
       "    <tr style=\"text-align: right;\">\n",
       "      <th></th>\n",
       "      <th>user_url</th>\n",
       "      <th>movie_url</th>\n",
       "      <th>movie_name</th>\n",
       "      <th>score</th>\n",
       "      <th>time</th>\n",
       "    </tr>\n",
       "  </thead>\n",
       "  <tbody>\n",
       "    <tr>\n",
       "      <th>0</th>\n",
       "      <td>/user/15647798/</td>\n",
       "      <td>/film/568289/</td>\n",
       "      <td>Богемская рапсодия (2018)</td>\n",
       "      <td>9</td>\n",
       "      <td>22.11.18 00:50</td>\n",
       "    </tr>\n",
       "    <tr>\n",
       "      <th>1</th>\n",
       "      <td>/user/15647798/</td>\n",
       "      <td>/film/435/</td>\n",
       "      <td>Зеленая миля (1999)</td>\n",
       "      <td>8</td>\n",
       "      <td>22.11.18 00:51</td>\n",
       "    </tr>\n",
       "    <tr>\n",
       "      <th>2</th>\n",
       "      <td>/user/15647798/</td>\n",
       "      <td>/film/535341/</td>\n",
       "      <td>1+1 (2011)</td>\n",
       "      <td>9</td>\n",
       "      <td>22.11.18 00:52</td>\n",
       "    </tr>\n",
       "    <tr>\n",
       "      <th>3</th>\n",
       "      <td>/user/15647798/</td>\n",
       "      <td>/film/389/</td>\n",
       "      <td>Леон (1994)</td>\n",
       "      <td>8</td>\n",
       "      <td>22.11.18 00:52</td>\n",
       "    </tr>\n",
       "    <tr>\n",
       "      <th>4</th>\n",
       "      <td>/user/15647798/</td>\n",
       "      <td>/film/361/</td>\n",
       "      <td>Бойцовский клуб (1999)</td>\n",
       "      <td>8</td>\n",
       "      <td>22.11.18 00:52</td>\n",
       "    </tr>\n",
       "    <tr>\n",
       "      <th>...</th>\n",
       "      <td>...</td>\n",
       "      <td>...</td>\n",
       "      <td>...</td>\n",
       "      <td>...</td>\n",
       "      <td>...</td>\n",
       "    </tr>\n",
       "    <tr>\n",
       "      <th>36464171</th>\n",
       "      <td>/user/1510864/</td>\n",
       "      <td>/series/161242/</td>\n",
       "      <td>Зена – королева воинов (1995)</td>\n",
       "      <td>7</td>\n",
       "      <td>09.02.21 00:58</td>\n",
       "    </tr>\n",
       "    <tr>\n",
       "      <th>36464172</th>\n",
       "      <td>/user/1510864/</td>\n",
       "      <td>/series/95241/</td>\n",
       "      <td>Джуманджи (1996)</td>\n",
       "      <td>6</td>\n",
       "      <td>09.02.21 00:59</td>\n",
       "    </tr>\n",
       "    <tr>\n",
       "      <th>36464173</th>\n",
       "      <td>/user/1510864/</td>\n",
       "      <td>/series/84961/</td>\n",
       "      <td>Люди в черном (1997)</td>\n",
       "      <td>4</td>\n",
       "      <td>09.02.21 00:59</td>\n",
       "    </tr>\n",
       "    <tr>\n",
       "      <th>36464174</th>\n",
       "      <td>/user/1510864/</td>\n",
       "      <td>/series/817507/</td>\n",
       "      <td>Люк Кейдж (2016)</td>\n",
       "      <td>4</td>\n",
       "      <td>09.02.21 00:59</td>\n",
       "    </tr>\n",
       "    <tr>\n",
       "      <th>36464175</th>\n",
       "      <td>/user/1510864/</td>\n",
       "      <td>/series/445108/</td>\n",
       "      <td>Серебряный Сёрфер (1998)</td>\n",
       "      <td>6</td>\n",
       "      <td>09.02.21 00:59</td>\n",
       "    </tr>\n",
       "  </tbody>\n",
       "</table>\n",
       "<p>36464176 rows × 5 columns</p>\n",
       "</div>"
      ],
      "text/plain": [
       "                 user_url        movie_url                     movie_name  \\\n",
       "0         /user/15647798/    /film/568289/      Богемская рапсодия (2018)   \n",
       "1         /user/15647798/       /film/435/            Зеленая миля (1999)   \n",
       "2         /user/15647798/    /film/535341/                     1+1 (2011)   \n",
       "3         /user/15647798/       /film/389/                    Леон (1994)   \n",
       "4         /user/15647798/       /film/361/         Бойцовский клуб (1999)   \n",
       "...                   ...              ...                            ...   \n",
       "36464171   /user/1510864/  /series/161242/  Зена – королева воинов (1995)   \n",
       "36464172   /user/1510864/   /series/95241/               Джуманджи (1996)   \n",
       "36464173   /user/1510864/   /series/84961/           Люди в черном (1997)   \n",
       "36464174   /user/1510864/  /series/817507/               Люк Кейдж (2016)   \n",
       "36464175   /user/1510864/  /series/445108/       Серебряный Сёрфер (1998)   \n",
       "\n",
       "          score             time  \n",
       "0             9  22.11.18 00:50   \n",
       "1             8  22.11.18 00:51   \n",
       "2             9  22.11.18 00:52   \n",
       "3             8  22.11.18 00:52   \n",
       "4             8  22.11.18 00:52   \n",
       "...         ...              ...  \n",
       "36464171      7  09.02.21 00:58   \n",
       "36464172      6  09.02.21 00:59   \n",
       "36464173      4  09.02.21 00:59   \n",
       "36464174      4  09.02.21 00:59   \n",
       "36464175      6  09.02.21 00:59   \n",
       "\n",
       "[36464176 rows x 5 columns]"
      ]
     },
     "execution_count": 2,
     "metadata": {},
     "output_type": "execute_result"
    }
   ],
   "source": [
    "df = pd.read_csv('votes.csv', sep='|')\n",
    "df"
   ]
  },
  {
   "cell_type": "markdown",
   "metadata": {},
   "source": [
    "Выкидываем ненужные(пока) столбцы"
   ]
  },
  {
   "cell_type": "code",
   "execution_count": 3,
   "metadata": {},
   "outputs": [],
   "source": [
    "df.drop(columns=['time', 'movie_name'], inplace=True)"
   ]
  },
  {
   "cell_type": "markdown",
   "metadata": {},
   "source": [
    "# Урезание датафрейма по числу просмотров(>=30)"
   ]
  },
  {
   "cell_type": "code",
   "execution_count": 6,
   "metadata": {},
   "outputs": [
    {
     "data": {
      "text/plain": [
       "/film/447301/    36614\n",
       "/film/535341/    34138\n",
       "/film/258687/    33339\n",
       "/film/361/       33163\n",
       "/film/326/       32698\n",
       "                 ...  \n",
       "/film/925970/        1\n",
       "/film/931164/        1\n",
       "/film/453768/        1\n",
       "/film/263381/        1\n",
       "/film/927966/        1\n",
       "Name: movie_url, Length: 217452, dtype: int64"
      ]
     },
     "execution_count": 6,
     "metadata": {},
     "output_type": "execute_result"
    }
   ],
   "source": [
    "counts = df.movie_url.value_counts()\n",
    "counts"
   ]
  },
  {
   "cell_type": "markdown",
   "metadata": {},
   "source": [
    "Всего фильмов с больше чем 29 оценок:"
   ]
  },
  {
   "cell_type": "code",
   "execution_count": 7,
   "metadata": {},
   "outputs": [
    {
     "data": {
      "text/plain": [
       "43869"
      ]
     },
     "execution_count": 7,
     "metadata": {},
     "output_type": "execute_result"
    }
   ],
   "source": [
    "count_threshold = 29\n",
    "sum(counts > count_threshold)"
   ]
  },
  {
   "cell_type": "markdown",
   "metadata": {},
   "source": [
    "Обрезанный датафрейм:"
   ]
  },
  {
   "cell_type": "code",
   "execution_count": 8,
   "metadata": {},
   "outputs": [],
   "source": [
    "clipped_df = df[df.movie_url.map(lambda x: counts[x] > count_threshold)]"
   ]
  },
  {
   "cell_type": "code",
   "execution_count": 14,
   "metadata": {},
   "outputs": [
    {
     "data": {
      "text/html": [
       "<div>\n",
       "<style scoped>\n",
       "    .dataframe tbody tr th:only-of-type {\n",
       "        vertical-align: middle;\n",
       "    }\n",
       "\n",
       "    .dataframe tbody tr th {\n",
       "        vertical-align: top;\n",
       "    }\n",
       "\n",
       "    .dataframe thead th {\n",
       "        text-align: right;\n",
       "    }\n",
       "</style>\n",
       "<table border=\"1\" class=\"dataframe\">\n",
       "  <thead>\n",
       "    <tr style=\"text-align: right;\">\n",
       "      <th></th>\n",
       "      <th>user_url</th>\n",
       "      <th>movie_url</th>\n",
       "      <th>score</th>\n",
       "    </tr>\n",
       "  </thead>\n",
       "  <tbody>\n",
       "    <tr>\n",
       "      <th>0</th>\n",
       "      <td>/user/15647798/</td>\n",
       "      <td>/film/568289/</td>\n",
       "      <td>9</td>\n",
       "    </tr>\n",
       "    <tr>\n",
       "      <th>1</th>\n",
       "      <td>/user/15647798/</td>\n",
       "      <td>/film/435/</td>\n",
       "      <td>8</td>\n",
       "    </tr>\n",
       "    <tr>\n",
       "      <th>2</th>\n",
       "      <td>/user/15647798/</td>\n",
       "      <td>/film/535341/</td>\n",
       "      <td>9</td>\n",
       "    </tr>\n",
       "    <tr>\n",
       "      <th>3</th>\n",
       "      <td>/user/15647798/</td>\n",
       "      <td>/film/389/</td>\n",
       "      <td>8</td>\n",
       "    </tr>\n",
       "    <tr>\n",
       "      <th>4</th>\n",
       "      <td>/user/15647798/</td>\n",
       "      <td>/film/361/</td>\n",
       "      <td>8</td>\n",
       "    </tr>\n",
       "  </tbody>\n",
       "</table>\n",
       "</div>"
      ],
      "text/plain": [
       "          user_url      movie_url  score\n",
       "0  /user/15647798/  /film/568289/      9\n",
       "1  /user/15647798/     /film/435/      8\n",
       "2  /user/15647798/  /film/535341/      9\n",
       "3  /user/15647798/     /film/389/      8\n",
       "4  /user/15647798/     /film/361/      8"
      ]
     },
     "execution_count": 14,
     "metadata": {},
     "output_type": "execute_result"
    }
   ],
   "source": [
    "clipped_df.head()"
   ]
  },
  {
   "cell_type": "markdown",
   "metadata": {},
   "source": [
    "Сохранение обрезанного датафрейма:"
   ]
  },
  {
   "cell_type": "code",
   "execution_count": 13,
   "metadata": {},
   "outputs": [],
   "source": [
    "clipped_df.to_csv(f'clipped{count_threshold}_df.csv', index=False, sep='|')"
   ]
  },
  {
   "cell_type": "markdown",
   "metadata": {},
   "source": [
    "Сохранение соответствия url(фильма) - id(фильма) для обрезанного датафрейма в файл"
   ]
  },
  {
   "cell_type": "code",
   "execution_count": 15,
   "metadata": {},
   "outputs": [],
   "source": [
    "movies_strs = set(clipped_df.movie_url)\n",
    "m_id_dict = dict(zip(movies_strs, range(0, len(movies_strs))))\n",
    "pd.DataFrame(m_id_dict.items(), columns=['movie_url', 'id']).to_csv('clipped_movies_ids.csv', sep='|', index=False)"
   ]
  },
  {
   "cell_type": "markdown",
   "metadata": {},
   "source": [
    "Замена на айдишники в обрезанном датасете"
   ]
  },
  {
   "cell_type": "code",
   "execution_count": 16,
   "metadata": {},
   "outputs": [
    {
     "name": "stderr",
     "output_type": "stream",
     "text": [
      "/home/makuhich/.local/lib/python3.9/site-packages/pandas/core/generic.py:5491: SettingWithCopyWarning: \n",
      "A value is trying to be set on a copy of a slice from a DataFrame.\n",
      "Try using .loc[row_indexer,col_indexer] = value instead\n",
      "\n",
      "See the caveats in the documentation: https://pandas.pydata.org/pandas-docs/stable/user_guide/indexing.html#returning-a-view-versus-a-copy\n",
      "  self[name] = value\n"
     ]
    }
   ],
   "source": [
    "clipped_df.movie_url = clipped_df.movie_url.map(m_id_dict)\n",
    "clipped_df.user_url = clipped_df.user_url.map(u_id_dict)"
   ]
  },
  {
   "cell_type": "code",
   "execution_count": 18,
   "metadata": {},
   "outputs": [
    {
     "data": {
      "text/html": [
       "<div>\n",
       "<style scoped>\n",
       "    .dataframe tbody tr th:only-of-type {\n",
       "        vertical-align: middle;\n",
       "    }\n",
       "\n",
       "    .dataframe tbody tr th {\n",
       "        vertical-align: top;\n",
       "    }\n",
       "\n",
       "    .dataframe thead th {\n",
       "        text-align: right;\n",
       "    }\n",
       "</style>\n",
       "<table border=\"1\" class=\"dataframe\">\n",
       "  <thead>\n",
       "    <tr style=\"text-align: right;\">\n",
       "      <th></th>\n",
       "      <th>user_id</th>\n",
       "      <th>movie_id</th>\n",
       "      <th>score</th>\n",
       "    </tr>\n",
       "  </thead>\n",
       "  <tbody>\n",
       "    <tr>\n",
       "      <th>0</th>\n",
       "      <td>42090</td>\n",
       "      <td>5625</td>\n",
       "      <td>9</td>\n",
       "    </tr>\n",
       "    <tr>\n",
       "      <th>1</th>\n",
       "      <td>42090</td>\n",
       "      <td>33755</td>\n",
       "      <td>8</td>\n",
       "    </tr>\n",
       "    <tr>\n",
       "      <th>2</th>\n",
       "      <td>42090</td>\n",
       "      <td>26882</td>\n",
       "      <td>9</td>\n",
       "    </tr>\n",
       "    <tr>\n",
       "      <th>3</th>\n",
       "      <td>42090</td>\n",
       "      <td>40787</td>\n",
       "      <td>8</td>\n",
       "    </tr>\n",
       "    <tr>\n",
       "      <th>4</th>\n",
       "      <td>42090</td>\n",
       "      <td>39004</td>\n",
       "      <td>8</td>\n",
       "    </tr>\n",
       "  </tbody>\n",
       "</table>\n",
       "</div>"
      ],
      "text/plain": [
       "   user_id  movie_id  score\n",
       "0    42090      5625      9\n",
       "1    42090     33755      8\n",
       "2    42090     26882      9\n",
       "3    42090     40787      8\n",
       "4    42090     39004      8"
      ]
     },
     "execution_count": 18,
     "metadata": {},
     "output_type": "execute_result"
    }
   ],
   "source": [
    "clipped_df.columns = ['user_id', 'movie_id', 'score']\n",
    "clipped_df.head()"
   ]
  },
  {
   "cell_type": "markdown",
   "metadata": {},
   "source": [
    "Сохранение обрезанного датасета с столбцами айдишниками"
   ]
  },
  {
   "cell_type": "code",
   "execution_count": 19,
   "metadata": {},
   "outputs": [],
   "source": [
    "clipped_df.to_csv('clipped_short_votes_df.csv', sep='|', index=False)"
   ]
  },
  {
   "cell_type": "markdown",
   "metadata": {},
   "source": [
    "# Замена на айдишники в полном фрейме"
   ]
  },
  {
   "cell_type": "code",
   "execution_count": 4,
   "metadata": {},
   "outputs": [],
   "source": [
    "users_strs = set(df.user_url)\n",
    "u_id_dict = dict(zip(users_strs, range(0, len(users_strs))))\n",
    "pd.DataFrame(u_id_dict.items(), columns=['user_url', 'id']).to_csv('users_ids.csv', sep='|', index=False)"
   ]
  },
  {
   "cell_type": "code",
   "execution_count": 20,
   "metadata": {},
   "outputs": [],
   "source": [
    "movies_strs = set(df.movie_url)\n",
    "m_id_dict = dict(zip(movies_strs, range(0, len(movies_strs))))\n",
    "pd.DataFrame(m_id_dict.items(), columns=['movie_url', 'id']).to_csv('movies_ids.csv', sep='|', index=False)"
   ]
  },
  {
   "cell_type": "code",
   "execution_count": 21,
   "metadata": {},
   "outputs": [],
   "source": [
    "df.movie_url = df.movie_url.map(m_id_dict)\n",
    "df.user_url = df.user_url.map(u_id_dict)"
   ]
  },
  {
   "cell_type": "code",
   "execution_count": 22,
   "metadata": {},
   "outputs": [
    {
     "data": {
      "text/html": [
       "<div>\n",
       "<style scoped>\n",
       "    .dataframe tbody tr th:only-of-type {\n",
       "        vertical-align: middle;\n",
       "    }\n",
       "\n",
       "    .dataframe tbody tr th {\n",
       "        vertical-align: top;\n",
       "    }\n",
       "\n",
       "    .dataframe thead th {\n",
       "        text-align: right;\n",
       "    }\n",
       "</style>\n",
       "<table border=\"1\" class=\"dataframe\">\n",
       "  <thead>\n",
       "    <tr style=\"text-align: right;\">\n",
       "      <th></th>\n",
       "      <th>user_id</th>\n",
       "      <th>movie_id</th>\n",
       "      <th>score</th>\n",
       "    </tr>\n",
       "  </thead>\n",
       "  <tbody>\n",
       "    <tr>\n",
       "      <th>0</th>\n",
       "      <td>42090</td>\n",
       "      <td>61325</td>\n",
       "      <td>9</td>\n",
       "    </tr>\n",
       "    <tr>\n",
       "      <th>1</th>\n",
       "      <td>42090</td>\n",
       "      <td>204828</td>\n",
       "      <td>8</td>\n",
       "    </tr>\n",
       "    <tr>\n",
       "      <th>2</th>\n",
       "      <td>42090</td>\n",
       "      <td>196441</td>\n",
       "      <td>9</td>\n",
       "    </tr>\n",
       "    <tr>\n",
       "      <th>3</th>\n",
       "      <td>42090</td>\n",
       "      <td>104830</td>\n",
       "      <td>8</td>\n",
       "    </tr>\n",
       "    <tr>\n",
       "      <th>4</th>\n",
       "      <td>42090</td>\n",
       "      <td>157096</td>\n",
       "      <td>8</td>\n",
       "    </tr>\n",
       "  </tbody>\n",
       "</table>\n",
       "</div>"
      ],
      "text/plain": [
       "   user_id  movie_id  score\n",
       "0    42090     61325      9\n",
       "1    42090    204828      8\n",
       "2    42090    196441      9\n",
       "3    42090    104830      8\n",
       "4    42090    157096      8"
      ]
     },
     "execution_count": 22,
     "metadata": {},
     "output_type": "execute_result"
    }
   ],
   "source": [
    "df.columns = ['user_id', 'movie_id', 'score']\n",
    "df.head()"
   ]
  },
  {
   "cell_type": "markdown",
   "metadata": {},
   "source": [
    "Сохранение полного датафрейма с столбцами айдишниками "
   ]
  },
  {
   "cell_type": "code",
   "execution_count": 23,
   "metadata": {},
   "outputs": [],
   "source": [
    "df.to_csv('short_votes.csv', sep='|', index=False)"
   ]
  },
  {
   "cell_type": "code",
   "execution_count": null,
   "metadata": {},
   "outputs": [],
   "source": []
  },
  {
   "cell_type": "markdown",
   "metadata": {},
   "source": [
    "# Загрузка обрезанного датафрейма с столбцами айдишниками(clipped_df)"
   ]
  },
  {
   "cell_type": "code",
   "execution_count": 1,
   "metadata": {},
   "outputs": [],
   "source": [
    "import pandas as pd\n",
    "import numpy as np"
   ]
  },
  {
   "cell_type": "code",
   "execution_count": 2,
   "metadata": {},
   "outputs": [
    {
     "data": {
      "text/html": [
       "<div>\n",
       "<style scoped>\n",
       "    .dataframe tbody tr th:only-of-type {\n",
       "        vertical-align: middle;\n",
       "    }\n",
       "\n",
       "    .dataframe tbody tr th {\n",
       "        vertical-align: top;\n",
       "    }\n",
       "\n",
       "    .dataframe thead th {\n",
       "        text-align: right;\n",
       "    }\n",
       "</style>\n",
       "<table border=\"1\" class=\"dataframe\">\n",
       "  <thead>\n",
       "    <tr style=\"text-align: right;\">\n",
       "      <th></th>\n",
       "      <th>user_id</th>\n",
       "      <th>movie_id</th>\n",
       "      <th>score</th>\n",
       "    </tr>\n",
       "  </thead>\n",
       "  <tbody>\n",
       "    <tr>\n",
       "      <th>0</th>\n",
       "      <td>42090</td>\n",
       "      <td>5625</td>\n",
       "      <td>9</td>\n",
       "    </tr>\n",
       "    <tr>\n",
       "      <th>1</th>\n",
       "      <td>42090</td>\n",
       "      <td>33755</td>\n",
       "      <td>8</td>\n",
       "    </tr>\n",
       "    <tr>\n",
       "      <th>2</th>\n",
       "      <td>42090</td>\n",
       "      <td>26882</td>\n",
       "      <td>9</td>\n",
       "    </tr>\n",
       "    <tr>\n",
       "      <th>3</th>\n",
       "      <td>42090</td>\n",
       "      <td>40787</td>\n",
       "      <td>8</td>\n",
       "    </tr>\n",
       "    <tr>\n",
       "      <th>4</th>\n",
       "      <td>42090</td>\n",
       "      <td>39004</td>\n",
       "      <td>8</td>\n",
       "    </tr>\n",
       "  </tbody>\n",
       "</table>\n",
       "</div>"
      ],
      "text/plain": [
       "   user_id  movie_id  score\n",
       "0    42090      5625      9\n",
       "1    42090     33755      8\n",
       "2    42090     26882      9\n",
       "3    42090     40787      8\n",
       "4    42090     39004      8"
      ]
     },
     "execution_count": 2,
     "metadata": {},
     "output_type": "execute_result"
    }
   ],
   "source": [
    "count_threshold = 29\n",
    "clipped_df = pd.read_csv('clipped_short_votes_df.csv', sep='|')\n",
    "clipped_df.head()"
   ]
  },
  {
   "cell_type": "markdown",
   "metadata": {},
   "source": [
    "Приведение типов уменьшит размер фрейма в 4 раза:"
   ]
  },
  {
   "cell_type": "code",
   "execution_count": 3,
   "metadata": {},
   "outputs": [
    {
     "name": "stdout",
     "output_type": "stream",
     "text": [
      "<class 'pandas.core.frame.DataFrame'>\n",
      "RangeIndex: 35527548 entries, 0 to 35527547\n",
      "Data columns (total 3 columns):\n",
      " #   Column    Dtype \n",
      "---  ------    ----- \n",
      " 0   user_id   uint16\n",
      " 1   movie_id  int32 \n",
      " 2   score     int8  \n",
      "dtypes: int32(1), int8(1), uint16(1)\n",
      "memory usage: 237.2 MB\n"
     ]
    }
   ],
   "source": [
    "clipped_df.movie_id = clipped_df.movie_id.astype('int32')\n",
    "clipped_df.score = clipped_df.score.astype('int8')\n",
    "clipped_df.user_id = clipped_df.user_id.astype('uint16')\n",
    "clipped_df.info()"
   ]
  },
  {
   "cell_type": "code",
   "execution_count": null,
   "metadata": {},
   "outputs": [],
   "source": []
  },
  {
   "cell_type": "markdown",
   "metadata": {},
   "source": [
    "# Получение Sparse матриц"
   ]
  },
  {
   "cell_type": "markdown",
   "metadata": {},
   "source": [
    "### Повторная загрузка фрейма(для удобства)"
   ]
  },
  {
   "cell_type": "code",
   "execution_count": 1,
   "metadata": {},
   "outputs": [],
   "source": [
    "import pandas as pd\n",
    "import numpy as np\n",
    "from scipy import sparse"
   ]
  },
  {
   "cell_type": "code",
   "execution_count": 2,
   "metadata": {},
   "outputs": [
    {
     "data": {
      "text/html": [
       "<div>\n",
       "<style scoped>\n",
       "    .dataframe tbody tr th:only-of-type {\n",
       "        vertical-align: middle;\n",
       "    }\n",
       "\n",
       "    .dataframe tbody tr th {\n",
       "        vertical-align: top;\n",
       "    }\n",
       "\n",
       "    .dataframe thead th {\n",
       "        text-align: right;\n",
       "    }\n",
       "</style>\n",
       "<table border=\"1\" class=\"dataframe\">\n",
       "  <thead>\n",
       "    <tr style=\"text-align: right;\">\n",
       "      <th></th>\n",
       "      <th>user_id</th>\n",
       "      <th>movie_id</th>\n",
       "      <th>score</th>\n",
       "    </tr>\n",
       "  </thead>\n",
       "  <tbody>\n",
       "    <tr>\n",
       "      <th>0</th>\n",
       "      <td>42090</td>\n",
       "      <td>5625</td>\n",
       "      <td>9</td>\n",
       "    </tr>\n",
       "    <tr>\n",
       "      <th>1</th>\n",
       "      <td>42090</td>\n",
       "      <td>33755</td>\n",
       "      <td>8</td>\n",
       "    </tr>\n",
       "    <tr>\n",
       "      <th>2</th>\n",
       "      <td>42090</td>\n",
       "      <td>26882</td>\n",
       "      <td>9</td>\n",
       "    </tr>\n",
       "    <tr>\n",
       "      <th>3</th>\n",
       "      <td>42090</td>\n",
       "      <td>40787</td>\n",
       "      <td>8</td>\n",
       "    </tr>\n",
       "    <tr>\n",
       "      <th>4</th>\n",
       "      <td>42090</td>\n",
       "      <td>39004</td>\n",
       "      <td>8</td>\n",
       "    </tr>\n",
       "  </tbody>\n",
       "</table>\n",
       "</div>"
      ],
      "text/plain": [
       "   user_id  movie_id  score\n",
       "0    42090      5625      9\n",
       "1    42090     33755      8\n",
       "2    42090     26882      9\n",
       "3    42090     40787      8\n",
       "4    42090     39004      8"
      ]
     },
     "execution_count": 2,
     "metadata": {},
     "output_type": "execute_result"
    }
   ],
   "source": [
    "count_threshold = 29\n",
    "clipped_df = pd.read_csv(f'clipped_short_votes_df.csv', sep='|')\n",
    "clipped_df.head()"
   ]
  },
  {
   "cell_type": "code",
   "execution_count": 3,
   "metadata": {},
   "outputs": [
    {
     "name": "stdout",
     "output_type": "stream",
     "text": [
      "<class 'pandas.core.frame.DataFrame'>\n",
      "RangeIndex: 35527548 entries, 0 to 35527547\n",
      "Data columns (total 3 columns):\n",
      " #   Column    Dtype \n",
      "---  ------    ----- \n",
      " 0   user_id   uint16\n",
      " 1   movie_id  int32 \n",
      " 2   score     int8  \n",
      "dtypes: int32(1), int8(1), uint16(1)\n",
      "memory usage: 237.2 MB\n"
     ]
    }
   ],
   "source": [
    "clipped_df.movie_id = clipped_df.movie_id.astype('int32')\n",
    "clipped_df.score = clipped_df.score.astype('int8')\n",
    "clipped_df.user_id = clipped_df.user_id.astype('uint16')\n",
    "clipped_df.info()"
   ]
  },
  {
   "cell_type": "code",
   "execution_count": null,
   "metadata": {},
   "outputs": [],
   "source": []
  },
  {
   "cell_type": "markdown",
   "metadata": {},
   "source": [
    "### Получаем sparse-матрицу(юзер-фильм) оценок:"
   ]
  },
  {
   "cell_type": "code",
   "execution_count": 5,
   "metadata": {},
   "outputs": [
    {
     "data": {
      "text/plain": [
       "<63011x43869 sparse matrix of type '<class 'numpy.int8'>'\n",
       "\twith 35527548 stored elements in Compressed Sparse Row format>"
      ]
     },
     "execution_count": 5,
     "metadata": {},
     "output_type": "execute_result"
    }
   ],
   "source": [
    "sp_M = sparse.csr_matrix((clipped_df['score'], (clipped_df['user_id'], clipped_df['movie_id'])), dtype='int8')\n",
    "sp_M"
   ]
  },
  {
   "cell_type": "markdown",
   "metadata": {},
   "source": [
    "### Разбиваем на train-test\n",
    "Разбиение происходит посредством зануления указанного процента ячеек в каждой строке(т.е. для каждого юзера)"
   ]
  },
  {
   "cell_type": "code",
   "execution_count": 3,
   "metadata": {},
   "outputs": [],
   "source": [
    "from tqdm import tqdm"
   ]
  },
  {
   "cell_type": "code",
   "execution_count": 4,
   "metadata": {},
   "outputs": [],
   "source": [
    "def train_test_split(ratings, alpha):\n",
    "    test = sparse.csr_matrix(ratings.shape, dtype=ratings.dtype)\n",
    "    train = ratings.copy()\n",
    "    for user in tqdm(range(ratings.shape[0])):\n",
    "        nonzero_ind = ratings[user].nonzero()[1]\n",
    "        test_ratings = np.random.choice(nonzero_ind, \n",
    "                                        size=int(nonzero_ind.shape[0] * alpha), \n",
    "                                        replace=False)\n",
    "        train[user, test_ratings] = 0\n",
    "        test[user, test_ratings] = ratings[user, test_ratings]\n",
    "        \n",
    "    # Test and training are truly disjoint\n",
    "    # assert(train.multiply(test).nonzero()) \n",
    "    return train, test"
   ]
  },
  {
   "cell_type": "code",
   "execution_count": 5,
   "metadata": {},
   "outputs": [
    {
     "name": "stderr",
     "output_type": "stream",
     "text": [
      "  0%|          | 0/63011 [00:00<?, ?it/s]/home/makuhich/.local/lib/python3.9/site-packages/scipy/sparse/_index.py:116: SparseEfficiencyWarning: Changing the sparsity structure of a csr_matrix is expensive. lil_matrix is more efficient.\n",
      "  self._set_arrayXarray_sparse(i, j, x)\n",
      "100%|██████████| 63011/63011 [14:29<00:00, 72.46it/s] \n"
     ]
    }
   ],
   "source": [
    "train, test = train_test_split(full_sp_M, 0.05)"
   ]
  },
  {
   "cell_type": "markdown",
   "metadata": {},
   "source": [
    "Проверка"
   ]
  },
  {
   "cell_type": "code",
   "execution_count": 13,
   "metadata": {},
   "outputs": [
    {
     "data": {
      "text/plain": [
       "(array([], dtype=int32), array([], dtype=int32))"
      ]
     },
     "execution_count": 13,
     "metadata": {},
     "output_type": "execute_result"
    }
   ],
   "source": [
    "train.multiply(test).nonzero()"
   ]
  },
  {
   "cell_type": "markdown",
   "metadata": {},
   "source": [
    "### Сохранение всех трёх sparse-матриц"
   ]
  },
  {
   "cell_type": "code",
   "execution_count": 14,
   "metadata": {},
   "outputs": [],
   "source": [
    "sparse.save_npz('train_sp_M.npz', train)\n",
    "sparse.save_npz('test_sp_M.npz', test)\n",
    "sparse.save_npz('full_sp_M.npz', sp_M)"
   ]
  },
  {
   "cell_type": "code",
   "execution_count": null,
   "metadata": {},
   "outputs": [],
   "source": []
  },
  {
   "cell_type": "markdown",
   "metadata": {},
   "source": [
    "# ALS Модель (Библиотека IMPLICIT)"
   ]
  },
  {
   "cell_type": "code",
   "execution_count": 1,
   "metadata": {},
   "outputs": [],
   "source": [
    "from scipy import sparse\n",
    "import numpy as np\n",
    "import pandas as pd\n",
    "import implicit"
   ]
  },
  {
   "cell_type": "markdown",
   "metadata": {},
   "source": [
    "Загрузка матриц"
   ]
  },
  {
   "cell_type": "code",
   "execution_count": 2,
   "metadata": {},
   "outputs": [],
   "source": [
    "train_sp_M = sparse.load_npz(\"train_sp_M.npz\")\n",
    "test_sp_M = sparse.load_npz(\"test_sp_M.npz\")\n",
    "full_sp_M = sparse.load_npz('full_sp_M.npz')"
   ]
  },
  {
   "cell_type": "markdown",
   "metadata": {},
   "source": [
    "### Обучение моделей с разным числом факторов(5, 10, 15, ..., 115) (Только на train матрице)"
   ]
  },
  {
   "cell_type": "code",
   "execution_count": 4,
   "metadata": {
    "scrolled": true
   },
   "outputs": [
    {
     "name": "stderr",
     "output_type": "stream",
     "text": [
      "WARNING:root:OpenBLAS detected. Its highly recommend to set the environment variable 'export OPENBLAS_NUM_THREADS=1' to disable its internal multithreading\n"
     ]
    },
    {
     "name": "stdout",
     "output_type": "stream",
     "text": [
      "5\n"
     ]
    },
    {
     "data": {
      "application/vnd.jupyter.widget-view+json": {
       "model_id": "0309627a93fb4658986c5e1b5f5df079",
       "version_major": 2,
       "version_minor": 0
      },
      "text/plain": [
       "  0%|          | 0/15 [00:00<?, ?it/s]"
      ]
     },
     "metadata": {},
     "output_type": "display_data"
    },
    {
     "name": "stdout",
     "output_type": "stream",
     "text": [
      "10\n"
     ]
    },
    {
     "data": {
      "application/vnd.jupyter.widget-view+json": {
       "model_id": "ff71f002258247d8a0763b2d0eb915f5",
       "version_major": 2,
       "version_minor": 0
      },
      "text/plain": [
       "  0%|          | 0/15 [00:00<?, ?it/s]"
      ]
     },
     "metadata": {},
     "output_type": "display_data"
    },
    {
     "name": "stdout",
     "output_type": "stream",
     "text": [
      "15\n"
     ]
    },
    {
     "data": {
      "application/vnd.jupyter.widget-view+json": {
       "model_id": "9fb97aaabb2b448eaeb0f33ccb8d5f58",
       "version_major": 2,
       "version_minor": 0
      },
      "text/plain": [
       "  0%|          | 0/15 [00:00<?, ?it/s]"
      ]
     },
     "metadata": {},
     "output_type": "display_data"
    },
    {
     "name": "stdout",
     "output_type": "stream",
     "text": [
      "20\n"
     ]
    },
    {
     "data": {
      "application/vnd.jupyter.widget-view+json": {
       "model_id": "e731be3fea1d45b8be6c2ea13e529e4e",
       "version_major": 2,
       "version_minor": 0
      },
      "text/plain": [
       "  0%|          | 0/15 [00:00<?, ?it/s]"
      ]
     },
     "metadata": {},
     "output_type": "display_data"
    },
    {
     "name": "stdout",
     "output_type": "stream",
     "text": [
      "25\n"
     ]
    },
    {
     "data": {
      "application/vnd.jupyter.widget-view+json": {
       "model_id": "0967e1db1abb4262b842ff9a730bbe4f",
       "version_major": 2,
       "version_minor": 0
      },
      "text/plain": [
       "  0%|          | 0/15 [00:00<?, ?it/s]"
      ]
     },
     "metadata": {},
     "output_type": "display_data"
    },
    {
     "name": "stdout",
     "output_type": "stream",
     "text": [
      "30\n"
     ]
    },
    {
     "data": {
      "application/vnd.jupyter.widget-view+json": {
       "model_id": "aad32f6098784283838c37789bac62b1",
       "version_major": 2,
       "version_minor": 0
      },
      "text/plain": [
       "  0%|          | 0/15 [00:00<?, ?it/s]"
      ]
     },
     "metadata": {},
     "output_type": "display_data"
    },
    {
     "name": "stdout",
     "output_type": "stream",
     "text": [
      "35\n"
     ]
    },
    {
     "data": {
      "application/vnd.jupyter.widget-view+json": {
       "model_id": "67914514632e4bd6bd3347145f9e3c9f",
       "version_major": 2,
       "version_minor": 0
      },
      "text/plain": [
       "  0%|          | 0/15 [00:00<?, ?it/s]"
      ]
     },
     "metadata": {},
     "output_type": "display_data"
    },
    {
     "name": "stdout",
     "output_type": "stream",
     "text": [
      "40\n"
     ]
    },
    {
     "data": {
      "application/vnd.jupyter.widget-view+json": {
       "model_id": "eba7699b192e4ce086adcc097472374c",
       "version_major": 2,
       "version_minor": 0
      },
      "text/plain": [
       "  0%|          | 0/15 [00:00<?, ?it/s]"
      ]
     },
     "metadata": {},
     "output_type": "display_data"
    },
    {
     "name": "stdout",
     "output_type": "stream",
     "text": [
      "45\n"
     ]
    },
    {
     "data": {
      "application/vnd.jupyter.widget-view+json": {
       "model_id": "627f46a75d8a4d6384aed096d1c164d0",
       "version_major": 2,
       "version_minor": 0
      },
      "text/plain": [
       "  0%|          | 0/15 [00:00<?, ?it/s]"
      ]
     },
     "metadata": {},
     "output_type": "display_data"
    },
    {
     "name": "stdout",
     "output_type": "stream",
     "text": [
      "50\n"
     ]
    },
    {
     "data": {
      "application/vnd.jupyter.widget-view+json": {
       "model_id": "301ae9b5e329477ab2f69f25f9857946",
       "version_major": 2,
       "version_minor": 0
      },
      "text/plain": [
       "  0%|          | 0/15 [00:00<?, ?it/s]"
      ]
     },
     "metadata": {},
     "output_type": "display_data"
    },
    {
     "name": "stdout",
     "output_type": "stream",
     "text": [
      "55\n"
     ]
    },
    {
     "data": {
      "application/vnd.jupyter.widget-view+json": {
       "model_id": "489fbd14a1d24dde901f69a7b3068ab7",
       "version_major": 2,
       "version_minor": 0
      },
      "text/plain": [
       "  0%|          | 0/15 [00:00<?, ?it/s]"
      ]
     },
     "metadata": {},
     "output_type": "display_data"
    },
    {
     "name": "stdout",
     "output_type": "stream",
     "text": [
      "60\n"
     ]
    },
    {
     "data": {
      "application/vnd.jupyter.widget-view+json": {
       "model_id": "f4516799a337425dad3753417c8f0f6f",
       "version_major": 2,
       "version_minor": 0
      },
      "text/plain": [
       "  0%|          | 0/15 [00:00<?, ?it/s]"
      ]
     },
     "metadata": {},
     "output_type": "display_data"
    },
    {
     "name": "stdout",
     "output_type": "stream",
     "text": [
      "65\n"
     ]
    },
    {
     "data": {
      "application/vnd.jupyter.widget-view+json": {
       "model_id": "9f5c7f3348f4484794ce1e92bc3153a0",
       "version_major": 2,
       "version_minor": 0
      },
      "text/plain": [
       "  0%|          | 0/15 [00:00<?, ?it/s]"
      ]
     },
     "metadata": {},
     "output_type": "display_data"
    },
    {
     "name": "stdout",
     "output_type": "stream",
     "text": [
      "70\n"
     ]
    },
    {
     "data": {
      "application/vnd.jupyter.widget-view+json": {
       "model_id": "f7a4b704908843399770a9e7773e238c",
       "version_major": 2,
       "version_minor": 0
      },
      "text/plain": [
       "  0%|          | 0/15 [00:00<?, ?it/s]"
      ]
     },
     "metadata": {},
     "output_type": "display_data"
    },
    {
     "name": "stdout",
     "output_type": "stream",
     "text": [
      "75\n"
     ]
    },
    {
     "data": {
      "application/vnd.jupyter.widget-view+json": {
       "model_id": "34df9e9dbddb404d9dab218be27f050c",
       "version_major": 2,
       "version_minor": 0
      },
      "text/plain": [
       "  0%|          | 0/15 [00:00<?, ?it/s]"
      ]
     },
     "metadata": {},
     "output_type": "display_data"
    },
    {
     "name": "stdout",
     "output_type": "stream",
     "text": [
      "80\n"
     ]
    },
    {
     "data": {
      "application/vnd.jupyter.widget-view+json": {
       "model_id": "778fffec766a44cab8ad891f7e5bd489",
       "version_major": 2,
       "version_minor": 0
      },
      "text/plain": [
       "  0%|          | 0/15 [00:00<?, ?it/s]"
      ]
     },
     "metadata": {},
     "output_type": "display_data"
    },
    {
     "name": "stdout",
     "output_type": "stream",
     "text": [
      "85\n"
     ]
    },
    {
     "data": {
      "application/vnd.jupyter.widget-view+json": {
       "model_id": "598e2fb7f1694513bc030a09ed4bb2c7",
       "version_major": 2,
       "version_minor": 0
      },
      "text/plain": [
       "  0%|          | 0/15 [00:00<?, ?it/s]"
      ]
     },
     "metadata": {},
     "output_type": "display_data"
    },
    {
     "name": "stdout",
     "output_type": "stream",
     "text": [
      "90\n"
     ]
    },
    {
     "data": {
      "application/vnd.jupyter.widget-view+json": {
       "model_id": "3ab06a9654eb474d841044cd6105bde6",
       "version_major": 2,
       "version_minor": 0
      },
      "text/plain": [
       "  0%|          | 0/15 [00:00<?, ?it/s]"
      ]
     },
     "metadata": {},
     "output_type": "display_data"
    },
    {
     "name": "stdout",
     "output_type": "stream",
     "text": [
      "95\n"
     ]
    },
    {
     "data": {
      "application/vnd.jupyter.widget-view+json": {
       "model_id": "e21e8d6a8bdf42cc8308cbabd70dfff2",
       "version_major": 2,
       "version_minor": 0
      },
      "text/plain": [
       "  0%|          | 0/15 [00:00<?, ?it/s]"
      ]
     },
     "metadata": {},
     "output_type": "display_data"
    },
    {
     "name": "stdout",
     "output_type": "stream",
     "text": [
      "100\n"
     ]
    },
    {
     "data": {
      "application/vnd.jupyter.widget-view+json": {
       "model_id": "59e5373e6ec845f78ccb9d1c651b5f87",
       "version_major": 2,
       "version_minor": 0
      },
      "text/plain": [
       "  0%|          | 0/15 [00:00<?, ?it/s]"
      ]
     },
     "metadata": {},
     "output_type": "display_data"
    },
    {
     "name": "stdout",
     "output_type": "stream",
     "text": [
      "105\n"
     ]
    },
    {
     "data": {
      "application/vnd.jupyter.widget-view+json": {
       "model_id": "a828057ebfc84a6fac5e94c691da2029",
       "version_major": 2,
       "version_minor": 0
      },
      "text/plain": [
       "  0%|          | 0/15 [00:00<?, ?it/s]"
      ]
     },
     "metadata": {},
     "output_type": "display_data"
    },
    {
     "name": "stdout",
     "output_type": "stream",
     "text": [
      "110\n"
     ]
    },
    {
     "data": {
      "application/vnd.jupyter.widget-view+json": {
       "model_id": "f93006d88ace4c188ba365bd00126eae",
       "version_major": 2,
       "version_minor": 0
      },
      "text/plain": [
       "  0%|          | 0/15 [00:00<?, ?it/s]"
      ]
     },
     "metadata": {},
     "output_type": "display_data"
    },
    {
     "name": "stdout",
     "output_type": "stream",
     "text": [
      "115\n"
     ]
    },
    {
     "data": {
      "application/vnd.jupyter.widget-view+json": {
       "model_id": "53646cd4ea0143d390dd4ec89623ddbc",
       "version_major": 2,
       "version_minor": 0
      },
      "text/plain": [
       "  0%|          | 0/15 [00:00<?, ?it/s]"
      ]
     },
     "metadata": {},
     "output_type": "display_data"
    }
   ],
   "source": [
    "import pickle\n",
    "min_factors_number = 5\n",
    "max_factors_number = 120\n",
    "for i in range(min_factors_number, max_factors_number, 5):\n",
    "    print(i)\n",
    "    model = implicit.als.AlternatingLeastSquares(factors=i)\n",
    "    model.fit(train_sp_M.T)\n",
    "    with open(f'models_2/als_model_factors({i}).sav', 'wb') as f:\n",
    "        pickle.dump(model, f)"
   ]
  },
  {
   "cell_type": "markdown",
   "metadata": {},
   "source": [
    "Модели сохранены в папку models_2"
   ]
  },
  {
   "cell_type": "markdown",
   "metadata": {},
   "source": [
    "#### Время обучения:"
   ]
  },
  {
   "cell_type": "code",
   "execution_count": 25,
   "metadata": {},
   "outputs": [
    {
     "data": {
      "image/png": "[encoded data removed]",
      "text/plain": [
       "<Figure size 864x504 with 1 Axes>"
      ]
     },
     "metadata": {
      "needs_background": "light"
     },
     "output_type": "display_data"
    }
   ],
   "source": [
    "import matplotlib.pyplot as plt\n",
    "s = '''5 15/15 [02:12<00:00, 8.97s/it]\n",
    "10 15/15 [02:51<00:00, 10.00s/it]\n",
    "15 15/15 [03:20<00:00, 13.02s/it]\n",
    "20 15/15 [04:00<00:00, 17.20s/it]\n",
    "25 15/15 [05:10<00:00, 19.87s/it]\n",
    "30 15/15 [05:43<00:00, 22.11s/it]\n",
    "35 15/15 [04:03<00:00, 15.65s/it]\n",
    "40 15/15 [04:25<00:00, 16.77s/it]\n",
    "45 15/15 [05:36<00:00, 22.58s/it]\n",
    "50 15/15 [05:51<00:00, 22.41s/it]\n",
    "55 15/15 [06:37<00:00, 25.40s/it]\n",
    "60 15/15 [07:25<00:00, 30.42s/it]\n",
    "65 15/15 [05:18<00:00, 20.84s/it]\n",
    "70 15/15 [05:42<00:00, 23.65s/it]\n",
    "75 15/15 [05:58<00:00, 22.72s/it]\n",
    "80 15/15 [06:31<00:00, 24.71s/it]\n",
    "85 15/15 [07:07<00:00, 28.01s/it]\n",
    "90 15/15 [07:57<00:00, 31.28s/it]\n",
    "95 15/15 [08:35<00:00, 34.09s/it]\n",
    "100 15/15 [06:07<00:00, 23.54s/it]\n",
    "105 15/15 [07:03<00:00, 27.51s/it]\n",
    "110 15/15 [07:49<00:00, 32.44s/it]\n",
    "115 15/15 [08:10<00:00, 32.44s/it]\n",
    "'''\n",
    "time_strs = [elem[:5] for elem in s.split('[')[1:]]\n",
    "times = [int(elem[:2]) + int(elem[3:]) / 60 for elem in time_strs]\n",
    "x = list(range(5, 120, 5))\n",
    "plt.figure(figsize=(12, 7))\n",
    "plt.grid()\n",
    "plt.xticks(x)\n",
    "plt.plot(x, times, 'r', marker='o')\n",
    "plt.ylabel('minuts');\n",
    "plt.xlabel('number of factors');\n",
    "plt.title('Время обучения');"
   ]
  },
  {
   "cell_type": "markdown",
   "metadata": {},
   "source": [
    "### Метрики"
   ]
  },
  {
   "cell_type": "code",
   "execution_count": 4,
   "metadata": {},
   "outputs": [],
   "source": [
    "def calculate_hits_k(real, recommendations, k=10):\n",
    "    '''\n",
    "        precision at k (p @ k)\n",
    "        real: list of tracks which user have listened\n",
    "    '''\n",
    "    try:\n",
    "        return len(set(recommendations[:k]) & set(real))/ min(k, len(real))\n",
    "    except ZeroDivisionError:\n",
    "        return np.nan\n",
    "    \n",
    "def calculate_ndcg_k(real, recommendations, k=10):\n",
    "    '''\n",
    "        real: list of tracks which user have listened\n",
    "    '''\n",
    "    real_s = set(real)\n",
    "    dcg = np.sum([i in real_s for i in recommendations]/ np.log2(np.arange(2, k + 2)))\n",
    "    border = min(k, len(real_s))\n",
    "    idcg = np.sum(np.ones(border)/ np.log2(np.arange(2, border + 2)))\n",
    "    try:\n",
    "        return dcg/idcg\n",
    "    except ZeroDivisionError:\n",
    "        return np.nan"
   ]
  },
  {
   "cell_type": "code",
   "execution_count": 5,
   "metadata": {},
   "outputs": [],
   "source": [
    "from tqdm import tqdm"
   ]
  },
  {
   "cell_type": "code",
   "execution_count": 6,
   "metadata": {},
   "outputs": [],
   "source": [
    "def calc_dataset_metric(metric_fun, test_set, pred_set, k=10):\n",
    "    u_metrics = np.empty(test_set.shape[0], dtype='float64')\n",
    "    for i in tqdm(range(test_set.shape[0])):\n",
    "        u_metrics[i] = metric_fun(test_set[i].nonzero()[1], pred_set[i], k)\n",
    "    return u_metrics, u_metrics[np.invert(np.isnan(u_metrics))].mean()\n",
    "    "
   ]
  },
  {
   "cell_type": "markdown",
   "metadata": {},
   "source": [
    "### Оценка моделей(по кол-ву факторов)"
   ]
  },
  {
   "cell_type": "markdown",
   "metadata": {},
   "source": [
    "Расчет значений метрик"
   ]
  },
  {
   "cell_type": "code",
   "execution_count": 7,
   "metadata": {
    "scrolled": true
   },
   "outputs": [
    {
     "name": "stdout",
     "output_type": "stream",
     "text": [
      "75\n"
     ]
    },
    {
     "data": {
      "application/vnd.jupyter.widget-view+json": {
       "model_id": "1221d505f93546dc9607c2ee78550b8f",
       "version_major": 2,
       "version_minor": 0
      },
      "text/plain": [
       "  0%|          | 0/63011 [00:00<?, ?it/s]"
      ]
     },
     "metadata": {},
     "output_type": "display_data"
    },
    {
     "name": "stderr",
     "output_type": "stream",
     "text": [
      "100%|██████████| 63011/63011 [00:13<00:00, 4836.77it/s]\n",
      "  0%|          | 0/63011 [00:00<?, ?it/s]<ipython-input-4-d8971ca8fbe7>:19: RuntimeWarning: invalid value encountered in double_scalars\n",
      "  return dcg/idcg\n",
      "100%|██████████| 63011/63011 [00:15<00:00, 3982.54it/s]\n",
      "/home/makuhich/.local/lib/python3.9/site-packages/numpy/core/_asarray.py:136: VisibleDeprecationWarning: Creating an ndarray from ragged nested sequences (which is a list-or-tuple of lists-or-tuples-or ndarrays with different lengths or shapes) is deprecated. If you meant to do this, you must specify 'dtype=object' when creating the ndarray\n",
      "  return array(a, dtype, copy=False, order=order, subok=True)\n"
     ]
    },
    {
     "name": "stdout",
     "output_type": "stream",
     "text": [
      "hits: 0.23078962580936876 ndcg: 0.24289466112042354\n",
      "80\n"
     ]
    },
    {
     "data": {
      "application/vnd.jupyter.widget-view+json": {
       "model_id": "614664188b9440be9a66e08eedba4b17",
       "version_major": 2,
       "version_minor": 0
      },
      "text/plain": [
       "  0%|          | 0/63011 [00:00<?, ?it/s]"
      ]
     },
     "metadata": {},
     "output_type": "display_data"
    },
    {
     "name": "stderr",
     "output_type": "stream",
     "text": [
      "100%|██████████| 63011/63011 [00:13<00:00, 4791.50it/s]\n",
      "100%|██████████| 63011/63011 [00:15<00:00, 3939.12it/s]\n"
     ]
    },
    {
     "name": "stdout",
     "output_type": "stream",
     "text": [
      "hits: 0.2334411139343361 ndcg: 0.24514827859311664\n",
      "85\n"
     ]
    },
    {
     "data": {
      "application/vnd.jupyter.widget-view+json": {
       "model_id": "8f09c9fb62c34294845d9a6c0e02f4ef",
       "version_major": 2,
       "version_minor": 0
      },
      "text/plain": [
       "  0%|          | 0/63011 [00:00<?, ?it/s]"
      ]
     },
     "metadata": {},
     "output_type": "display_data"
    },
    {
     "name": "stderr",
     "output_type": "stream",
     "text": [
      "100%|██████████| 63011/63011 [00:13<00:00, 4813.11it/s]\n",
      "100%|██████████| 63011/63011 [00:15<00:00, 3962.78it/s]\n"
     ]
    },
    {
     "name": "stdout",
     "output_type": "stream",
     "text": [
      "hits: 0.2341114270101208 ndcg: 0.24570530201728633\n",
      "90\n"
     ]
    },
    {
     "data": {
      "application/vnd.jupyter.widget-view+json": {
       "model_id": "6648bfc9a91345d0bcb47a9497cd4c63",
       "version_major": 2,
       "version_minor": 0
      },
      "text/plain": [
       "  0%|          | 0/63011 [00:00<?, ?it/s]"
      ]
     },
     "metadata": {},
     "output_type": "display_data"
    },
    {
     "name": "stderr",
     "output_type": "stream",
     "text": [
      "100%|██████████| 63011/63011 [00:13<00:00, 4842.18it/s]\n",
      "100%|██████████| 63011/63011 [00:15<00:00, 3975.45it/s]\n"
     ]
    },
    {
     "name": "stdout",
     "output_type": "stream",
     "text": [
      "hits: 0.23522015838599947 ndcg: 0.24691598165361617\n",
      "95\n"
     ]
    },
    {
     "data": {
      "application/vnd.jupyter.widget-view+json": {
       "model_id": "a4597665d38841a086f0700fac953e78",
       "version_major": 2,
       "version_minor": 0
      },
      "text/plain": [
       "  0%|          | 0/63011 [00:00<?, ?it/s]"
      ]
     },
     "metadata": {},
     "output_type": "display_data"
    },
    {
     "name": "stderr",
     "output_type": "stream",
     "text": [
      "100%|██████████| 63011/63011 [00:13<00:00, 4779.96it/s]\n",
      "100%|██████████| 63011/63011 [00:15<00:00, 3968.36it/s]\n"
     ]
    },
    {
     "name": "stdout",
     "output_type": "stream",
     "text": [
      "hits: 0.2367623415363548 ndcg: 0.24813714471122716\n",
      "100\n"
     ]
    },
    {
     "data": {
      "application/vnd.jupyter.widget-view+json": {
       "model_id": "3d411f898de748d88591c6bdd41dec80",
       "version_major": 2,
       "version_minor": 0
      },
      "text/plain": [
       "  0%|          | 0/63011 [00:00<?, ?it/s]"
      ]
     },
     "metadata": {},
     "output_type": "display_data"
    },
    {
     "name": "stderr",
     "output_type": "stream",
     "text": [
      "100%|██████████| 63011/63011 [00:13<00:00, 4828.51it/s]\n",
      "100%|██████████| 63011/63011 [00:16<00:00, 3925.43it/s]\n"
     ]
    },
    {
     "name": "stdout",
     "output_type": "stream",
     "text": [
      "hits: 0.23793106994071228 ndcg: 0.2488366888944271\n",
      "105\n"
     ]
    },
    {
     "data": {
      "application/vnd.jupyter.widget-view+json": {
       "model_id": "7204faf69e9c4dc0b49e0c670ddcd7b6",
       "version_major": 2,
       "version_minor": 0
      },
      "text/plain": [
       "  0%|          | 0/63011 [00:00<?, ?it/s]"
      ]
     },
     "metadata": {},
     "output_type": "display_data"
    },
    {
     "name": "stderr",
     "output_type": "stream",
     "text": [
      "100%|██████████| 63011/63011 [00:13<00:00, 4773.41it/s]\n",
      "100%|██████████| 63011/63011 [00:15<00:00, 3940.17it/s]\n"
     ]
    },
    {
     "name": "stdout",
     "output_type": "stream",
     "text": [
      "hits: 0.23905480582004054 ndcg: 0.24980469602322308\n",
      "110\n"
     ]
    },
    {
     "data": {
      "application/vnd.jupyter.widget-view+json": {
       "model_id": "4862d74bd8084c3da7c27dbefe5f3086",
       "version_major": 2,
       "version_minor": 0
      },
      "text/plain": [
       "  0%|          | 0/63011 [00:00<?, ?it/s]"
      ]
     },
     "metadata": {},
     "output_type": "display_data"
    },
    {
     "name": "stderr",
     "output_type": "stream",
     "text": [
      "100%|██████████| 63011/63011 [00:13<00:00, 4753.50it/s]\n",
      "100%|██████████| 63011/63011 [00:15<00:00, 3962.14it/s]\n"
     ]
    },
    {
     "name": "stdout",
     "output_type": "stream",
     "text": [
      "hits: 0.2401069607745206 ndcg: 0.2507484488736671\n",
      "115\n"
     ]
    },
    {
     "data": {
      "application/vnd.jupyter.widget-view+json": {
       "model_id": "8efaf24fb17242b4998ae21a24909224",
       "version_major": 2,
       "version_minor": 0
      },
      "text/plain": [
       "  0%|          | 0/63011 [00:00<?, ?it/s]"
      ]
     },
     "metadata": {},
     "output_type": "display_data"
    },
    {
     "name": "stderr",
     "output_type": "stream",
     "text": [
      "100%|██████████| 63011/63011 [00:13<00:00, 4766.14it/s]\n",
      "100%|██████████| 63011/63011 [00:16<00:00, 3924.93it/s]"
     ]
    },
    {
     "name": "stdout",
     "output_type": "stream",
     "text": [
      "hits: 0.24092764065970015 ndcg: 0.25183689306651824\n"
     ]
    },
    {
     "name": "stderr",
     "output_type": "stream",
     "text": [
      "\n"
     ]
    }
   ],
   "source": [
    "import pickle\n",
    "k = 10\n",
    "models_results = dict()\n",
    "for i in range(75, 120, 5):\n",
    "    print(i)\n",
    "    with open(f'models_2/als_model_factors({i}).sav', 'rb') as f:\n",
    "        model = pickle.load(f)\n",
    "    predictions = model.recommend_all(train_sp_M, N=10, filter_already_liked_items=True)\n",
    "    models_results[i] = [*calc_dataset_metric(calculate_hits_k, test_sp_M, predictions, k=k), *calc_dataset_metric(calculate_ndcg_k, test_sp_M, predictions, k=k)]\n",
    "    print('hits:', models_results[i][1], 'ndcg:', models_results[i][3])\n",
    "    np.save(f'models_2/metrics/hits_ndcg({i})', models_results[i])"
   ]
  },
  {
   "cell_type": "markdown",
   "metadata": {},
   "source": [
    "Построение графика"
   ]
  },
  {
   "cell_type": "code",
   "execution_count": 30,
   "metadata": {},
   "outputs": [
    {
     "data": {
      "image/png": "[encoded data removed]",
      "text/plain": [
       "<Figure size 1080x504 with 1 Axes>"
      ]
     },
     "metadata": {
      "needs_background": "light"
     },
     "output_type": "display_data"
    }
   ],
   "source": [
    "import matplotlib.pyplot as plt\n",
    "metrics = dict()\n",
    "x = list()\n",
    "y = list()\n",
    "y2 = list()\n",
    "for i in range(5, 116, 5):\n",
    "    metrics[i] = np.load(f'models_2/metrics/hits_ndcg({i}).npy', allow_pickle=True)\n",
    "    x.append(i)\n",
    "    y.append(metrics[i][1])\n",
    "    y2.append(metrics[i][3])\n",
    "\n",
    "plt.figure(figsize=(15, 7))\n",
    "plt.plot(x, y, 'b', marker='o', label='hits(mean)')\n",
    "plt.plot(x, y2, 'r', marker='*', label='ndcg(mean)')\n",
    "plt.xticks(x)\n",
    "plt.grid()\n",
    "plt.legend()\n",
    "plt.title('Значение метрик на тестовом наборе с количеством рекомендаций = 10')\n",
    "plt.ylabel('Значение метрики')\n",
    "plt.xlabel('Число факторов');"
   ]
  },
  {
   "cell_type": "markdown",
   "metadata": {},
   "source": [
    "### Пример предсказаний"
   ]
  },
  {
   "cell_type": "markdown",
   "metadata": {},
   "source": [
    "Загрузка словаря film id url"
   ]
  },
  {
   "cell_type": "code",
   "execution_count": 38,
   "metadata": {},
   "outputs": [],
   "source": [
    "m_url_id_df = pd.read_csv('clipped_movies_ids.csv', sep='|')\n",
    "m_id_url_dict = dict((id, url) for url, id in m_url_id_df.values)\n",
    "def movie_id_to_url(movie_ids, m_id_url_dict):\n",
    "    return [m_id_url_dict[elem] for elem in movie_ids]"
   ]
  },
  {
   "cell_type": "markdown",
   "metadata": {},
   "source": [
    "Загрузка словаря user id url"
   ]
  },
  {
   "cell_type": "code",
   "execution_count": 39,
   "metadata": {},
   "outputs": [],
   "source": [
    "u_url_id_df = pd.read_csv('users_ids.csv', sep='|')\n",
    "u_id_url_dict = dict((id, url) for url, id in u_url_id_df.values)\n",
    "def users_id_to_url(users_ids, u_id_url_dict):\n",
    "    return [u_id_url_dict[elem] for elem in users_ids]"
   ]
  },
  {
   "cell_type": "markdown",
   "metadata": {},
   "source": [
    "Загрузка лучшей модели (обученной на full_sp_M)"
   ]
  },
  {
   "cell_type": "code",
   "execution_count": 40,
   "metadata": {},
   "outputs": [],
   "source": [
    "import pickle\n",
    "with open('Models/als_model_factors(113).sav', 'rb') as f:\n",
    "    model = pickle.load(f)"
   ]
  },
  {
   "cell_type": "code",
   "execution_count": 41,
   "metadata": {},
   "outputs": [],
   "source": [
    "user_id = 0"
   ]
  },
  {
   "cell_type": "markdown",
   "metadata": {},
   "source": [
    "user id to url"
   ]
  },
  {
   "cell_type": "code",
   "execution_count": 42,
   "metadata": {},
   "outputs": [
    {
     "data": {
      "text/plain": [
       "['/user/2393546/']"
      ]
     },
     "execution_count": 42,
     "metadata": {},
     "output_type": "execute_result"
    }
   ],
   "source": [
    "users_id_to_url([user_id], u_id_url_dict)"
   ]
  },
  {
   "cell_type": "markdown",
   "metadata": {},
   "source": [
    "Рекомендация фильмов"
   ]
  },
  {
   "cell_type": "code",
   "execution_count": 43,
   "metadata": {},
   "outputs": [
    {
     "data": {
      "text/plain": [
       "['/film/6973/',\n",
       " '/film/24696/',\n",
       " '/film/711440/',\n",
       " '/series/1272477/',\n",
       " '/film/733784/',\n",
       " '/film/95452/',\n",
       " '/series/840995/',\n",
       " '/film/572299/',\n",
       " '/film/46543/',\n",
       " '/series/840346/']"
      ]
     },
     "execution_count": 43,
     "metadata": {},
     "output_type": "execute_result"
    }
   ],
   "source": [
    "movie_id_to_url([elem[0] for elem in model.recommend(user_id, train_sp_M, N=10, filter_already_liked_items=True)], m_id_url_dict)"
   ]
  },
  {
   "cell_type": "code",
   "execution_count": null,
   "metadata": {},
   "outputs": [],
   "source": []
  },
  {
   "cell_type": "markdown",
   "metadata": {},
   "source": [
    "# Объединичивание(по среднему). Заменяет оценку на 1, если оценка больше средней по юзеру, иначе -1"
   ]
  },
  {
   "cell_type": "code",
   "execution_count": null,
   "metadata": {},
   "outputs": [],
   "source": [
    "from scipy import sparse\n",
    "import numpy as np\n",
    "import pandas as pd\n",
    "import lightfm\n",
    "from tqdm import tqdm"
   ]
  },
  {
   "cell_type": "code",
   "execution_count": 3,
   "metadata": {},
   "outputs": [],
   "source": [
    "train_sp_M = sparse.load_npz(\"train_sp_M.npz\")\n",
    "test_sp_M = sparse.load_npz(\"test_sp_M.npz\")\n",
    "full_sp_M = sparse.load_npz('full_sp_M.npz')"
   ]
  },
  {
   "cell_type": "markdown",
   "metadata": {},
   "source": [
    "Создание ones_matrix"
   ]
  },
  {
   "cell_type": "code",
   "execution_count": 3,
   "metadata": {},
   "outputs": [],
   "source": [
    "def to_ones_matrix(sp_M, stat_fun):\n",
    "    res_sp = sp_M.copy()\n",
    "    for i in tqdm(range(sp_M.shape[0])):\n",
    "        non_zero_inds = sp_M[i].nonzero()[1] # np.array\n",
    "        if non_zero_inds.shape[0] != 0:\n",
    "            user_stat = stat_fun(sp_M[i, non_zero_inds])\n",
    "            more_or_eq_than_stat_mask = (sp_M[i, non_zero_inds] >= user_stat).toarray()[0] \n",
    "            more_or_eq_than_stat_inds = non_zero_inds[ more_or_eq_than_stat_mask ]\n",
    "            less_than_stat_inds = non_zero_inds[ np.invert(more_or_eq_than_stat_mask) ]\n",
    "            res_sp[i, less_than_stat_inds] = -1\n",
    "            res_sp[i, more_or_eq_than_stat_inds] = 1\n",
    "    return res_sp"
   ]
  },
  {
   "cell_type": "code",
   "execution_count": 4,
   "metadata": {},
   "outputs": [
    {
     "name": "stderr",
     "output_type": "stream",
     "text": [
      "100%|██████████| 63011/63011 [02:22<00:00, 441.22it/s]\n"
     ]
    }
   ],
   "source": [
    "ones_full_sp_M = to_ones_matrix(full_sp_M, lambda x: x.mean())"
   ]
  },
  {
   "cell_type": "code",
   "execution_count": 5,
   "metadata": {},
   "outputs": [
    {
     "name": "stderr",
     "output_type": "stream",
     "text": [
      "100%|██████████| 63011/63011 [02:21<00:00, 444.20it/s]\n"
     ]
    }
   ],
   "source": [
    "ones_train_sp_M = to_ones_matrix(train_sp_M, lambda x: x.mean())"
   ]
  },
  {
   "cell_type": "code",
   "execution_count": 6,
   "metadata": {},
   "outputs": [
    {
     "name": "stderr",
     "output_type": "stream",
     "text": [
      "100%|██████████| 63011/63011 [01:31<00:00, 691.84it/s]\n"
     ]
    }
   ],
   "source": [
    "ones_test_sp_M = to_ones_matrix(test_sp_M, lambda x: x.mean())"
   ]
  },
  {
   "cell_type": "markdown",
   "metadata": {},
   "source": [
    "Сохранение объденичиных матриц"
   ]
  },
  {
   "cell_type": "code",
   "execution_count": 7,
   "metadata": {},
   "outputs": [],
   "source": [
    "sparse.save_npz('ones_full_sp_M(mean).npz', ones_full_sp_M)\n",
    "sparse.save_npz('ones_train_sp_M(mean).npz', ones_train_sp_M)\n",
    "sparse.save_npz('ones_test_sp_M(mean).npz', ones_test_sp_M)"
   ]
  },
  {
   "cell_type": "code",
   "execution_count": null,
   "metadata": {},
   "outputs": [],
   "source": []
  },
  {
   "cell_type": "markdown",
   "metadata": {},
   "source": [
    "# Warp-Loss (библиотека LightFM)"
   ]
  },
  {
   "cell_type": "code",
   "execution_count": 1,
   "metadata": {},
   "outputs": [],
   "source": [
    "from scipy import sparse\n",
    "import numpy as np\n",
    "import pandas as pd\n",
    "import lightfm\n",
    "from tqdm import tqdm"
   ]
  },
  {
   "cell_type": "markdown",
   "metadata": {},
   "source": [
    "Загрузка матриц"
   ]
  },
  {
   "cell_type": "code",
   "execution_count": 2,
   "metadata": {},
   "outputs": [],
   "source": [
    "ones_full_sp_M = sparse.load_npz('ones_full_sp_M(mean).npz')\n",
    "ones_train_sp_M = sparse.load_npz('ones_train_sp_M(mean).npz')\n",
    "ones_test_sp_M = sparse.load_npz('ones_test_sp_M(mean).npz')"
   ]
  },
  {
   "cell_type": "code",
   "execution_count": 3,
   "metadata": {},
   "outputs": [],
   "source": [
    "train_sp_M = sparse.load_npz(\"train_sp_M.npz\")\n",
    "test_sp_M = sparse.load_npz(\"test_sp_M.npz\")\n",
    "full_sp_M = sparse.load_npz('full_sp_M.npz')"
   ]
  },
  {
   "cell_type": "markdown",
   "metadata": {},
   "source": [
    "## Обучение моделей с разным числом факторов(5, 10, 15, ..., 115) (Только на train матрице)"
   ]
  },
  {
   "cell_type": "code",
   "execution_count": 3,
   "metadata": {
    "scrolled": true
   },
   "outputs": [
    {
     "name": "stdout",
     "output_type": "stream",
     "text": [
      "5\n"
     ]
    },
    {
     "name": "stderr",
     "output_type": "stream",
     "text": [
      "Epoch: 100%|██████████| 20/20 [05:57<00:00, 17.86s/it]\n"
     ]
    },
    {
     "name": "stdout",
     "output_type": "stream",
     "text": [
      "10\n"
     ]
    },
    {
     "name": "stderr",
     "output_type": "stream",
     "text": [
      "Epoch: 100%|██████████| 20/20 [06:33<00:00, 19.65s/it]\n"
     ]
    },
    {
     "name": "stdout",
     "output_type": "stream",
     "text": [
      "15\n"
     ]
    },
    {
     "name": "stderr",
     "output_type": "stream",
     "text": [
      "Epoch: 100%|██████████| 20/20 [06:08<00:00, 18.41s/it]\n"
     ]
    },
    {
     "name": "stdout",
     "output_type": "stream",
     "text": [
      "20\n"
     ]
    },
    {
     "name": "stderr",
     "output_type": "stream",
     "text": [
      "Epoch: 100%|██████████| 20/20 [06:41<00:00, 20.09s/it]\n"
     ]
    },
    {
     "name": "stdout",
     "output_type": "stream",
     "text": [
      "25\n"
     ]
    },
    {
     "name": "stderr",
     "output_type": "stream",
     "text": [
      "Epoch: 100%|██████████| 20/20 [06:47<00:00, 20.35s/it]\n"
     ]
    },
    {
     "name": "stdout",
     "output_type": "stream",
     "text": [
      "30\n"
     ]
    },
    {
     "name": "stderr",
     "output_type": "stream",
     "text": [
      "Epoch: 100%|██████████| 20/20 [06:57<00:00, 20.86s/it]\n"
     ]
    },
    {
     "name": "stdout",
     "output_type": "stream",
     "text": [
      "35\n"
     ]
    },
    {
     "name": "stderr",
     "output_type": "stream",
     "text": [
      "Epoch: 100%|██████████| 20/20 [07:05<00:00, 21.28s/it]\n"
     ]
    },
    {
     "name": "stdout",
     "output_type": "stream",
     "text": [
      "40\n"
     ]
    },
    {
     "name": "stderr",
     "output_type": "stream",
     "text": [
      "Epoch: 100%|██████████| 20/20 [07:11<00:00, 21.59s/it]\n"
     ]
    },
    {
     "name": "stdout",
     "output_type": "stream",
     "text": [
      "45\n"
     ]
    },
    {
     "name": "stderr",
     "output_type": "stream",
     "text": [
      "Epoch: 100%|██████████| 20/20 [07:50<00:00, 23.54s/it]\n"
     ]
    },
    {
     "name": "stdout",
     "output_type": "stream",
     "text": [
      "50\n"
     ]
    },
    {
     "name": "stderr",
     "output_type": "stream",
     "text": [
      "Epoch: 100%|██████████| 20/20 [07:48<00:00, 23.41s/it]\n"
     ]
    },
    {
     "name": "stdout",
     "output_type": "stream",
     "text": [
      "55\n"
     ]
    },
    {
     "name": "stderr",
     "output_type": "stream",
     "text": [
      "Epoch: 100%|██████████| 20/20 [08:01<00:00, 24.08s/it]\n"
     ]
    },
    {
     "name": "stdout",
     "output_type": "stream",
     "text": [
      "60\n"
     ]
    },
    {
     "name": "stderr",
     "output_type": "stream",
     "text": [
      "Epoch: 100%|██████████| 20/20 [08:39<00:00, 26.00s/it]\n"
     ]
    },
    {
     "name": "stdout",
     "output_type": "stream",
     "text": [
      "65\n"
     ]
    },
    {
     "name": "stderr",
     "output_type": "stream",
     "text": [
      "Epoch: 100%|██████████| 20/20 [08:55<00:00, 26.79s/it]\n"
     ]
    },
    {
     "name": "stdout",
     "output_type": "stream",
     "text": [
      "70\n"
     ]
    },
    {
     "name": "stderr",
     "output_type": "stream",
     "text": [
      "Epoch: 100%|██████████| 20/20 [09:07<00:00, 27.38s/it]\n"
     ]
    },
    {
     "name": "stdout",
     "output_type": "stream",
     "text": [
      "75\n"
     ]
    },
    {
     "name": "stderr",
     "output_type": "stream",
     "text": [
      "Epoch: 100%|██████████| 20/20 [09:23<00:00, 28.16s/it]\n"
     ]
    },
    {
     "name": "stdout",
     "output_type": "stream",
     "text": [
      "80\n"
     ]
    },
    {
     "name": "stderr",
     "output_type": "stream",
     "text": [
      "Epoch: 100%|██████████| 20/20 [09:55<00:00, 29.76s/it]\n"
     ]
    },
    {
     "name": "stdout",
     "output_type": "stream",
     "text": [
      "85\n"
     ]
    },
    {
     "name": "stderr",
     "output_type": "stream",
     "text": [
      "Epoch: 100%|██████████| 20/20 [10:06<00:00, 30.35s/it]\n"
     ]
    },
    {
     "name": "stdout",
     "output_type": "stream",
     "text": [
      "90\n"
     ]
    },
    {
     "name": "stderr",
     "output_type": "stream",
     "text": [
      "Epoch: 100%|██████████| 20/20 [10:18<00:00, 30.93s/it]\n"
     ]
    },
    {
     "name": "stdout",
     "output_type": "stream",
     "text": [
      "95\n"
     ]
    },
    {
     "name": "stderr",
     "output_type": "stream",
     "text": [
      "Epoch: 100%|██████████| 20/20 [10:24<00:00, 31.24s/it]\n"
     ]
    },
    {
     "name": "stdout",
     "output_type": "stream",
     "text": [
      "100\n"
     ]
    },
    {
     "name": "stderr",
     "output_type": "stream",
     "text": [
      "Epoch: 100%|██████████| 20/20 [10:51<00:00, 32.55s/it]\n"
     ]
    },
    {
     "name": "stdout",
     "output_type": "stream",
     "text": [
      "105\n"
     ]
    },
    {
     "name": "stderr",
     "output_type": "stream",
     "text": [
      "Epoch: 100%|██████████| 20/20 [10:54<00:00, 32.74s/it]\n"
     ]
    },
    {
     "name": "stdout",
     "output_type": "stream",
     "text": [
      "110\n"
     ]
    },
    {
     "name": "stderr",
     "output_type": "stream",
     "text": [
      "Epoch: 100%|██████████| 20/20 [11:19<00:00, 33.98s/it]\n"
     ]
    },
    {
     "name": "stdout",
     "output_type": "stream",
     "text": [
      "115\n"
     ]
    },
    {
     "name": "stderr",
     "output_type": "stream",
     "text": [
      "Epoch: 100%|██████████| 20/20 [11:24<00:00, 34.23s/it]\n"
     ]
    },
    {
     "name": "stdout",
     "output_type": "stream",
     "text": [
      "120\n"
     ]
    },
    {
     "name": "stderr",
     "output_type": "stream",
     "text": [
      "Epoch: 100%|██████████| 20/20 [11:36<00:00, 34.84s/it]\n"
     ]
    }
   ],
   "source": [
    "import pickle\n",
    "min_factors_number = 5\n",
    "max_factors_number = 121\n",
    "for i in range(min_factors_number, max_factors_number, 5):\n",
    "    print(i)\n",
    "    model = lightfm.LightFM(no_components=i, loss='warp')\n",
    "    model.fit(ones_train_sp_M, num_threads=8, verbose=True, epochs=20)\n",
    "    with open(f'models_3/warp_model_factors({i}).sav', 'wb') as f:\n",
    "        pickle.dump(model, f)"
   ]
  },
  {
   "cell_type": "code",
   "execution_count": 9,
   "metadata": {},
   "outputs": [
    {
     "data": {
      "image/png": "[encoded data removed]",
      "text/plain": [
       "<Figure size 864x504 with 1 Axes>"
      ]
     },
     "metadata": {
      "needs_background": "light"
     },
     "output_type": "display_data"
    }
   ],
   "source": [
    "s='''5\n",
    "Epoch: 100%|██████████| 20/20 [05:57<00:00, 17.86s/it]\n",
    "10\n",
    "Epoch: 100%|██████████| 20/20 [06:33<00:00, 19.65s/it]\n",
    "15\n",
    "Epoch: 100%|██████████| 20/20 [06:08<00:00, 18.41s/it]\n",
    "20\n",
    "Epoch: 100%|██████████| 20/20 [06:41<00:00, 20.09s/it]\n",
    "25\n",
    "Epoch: 100%|██████████| 20/20 [06:47<00:00, 20.35s/it]\n",
    "30\n",
    "Epoch: 100%|██████████| 20/20 [06:57<00:00, 20.86s/it]\n",
    "35\n",
    "Epoch: 100%|██████████| 20/20 [07:05<00:00, 21.28s/it]\n",
    "40\n",
    "Epoch: 100%|██████████| 20/20 [07:11<00:00, 21.59s/it]\n",
    "45\n",
    "Epoch: 100%|██████████| 20/20 [07:50<00:00, 23.54s/it]\n",
    "50\n",
    "Epoch: 100%|██████████| 20/20 [07:48<00:00, 23.41s/it]\n",
    "55\n",
    "Epoch: 100%|██████████| 20/20 [08:01<00:00, 24.08s/it]\n",
    "60\n",
    "Epoch: 100%|██████████| 20/20 [08:39<00:00, 26.00s/it]\n",
    "65\n",
    "Epoch: 100%|██████████| 20/20 [08:55<00:00, 26.79s/it]\n",
    "70\n",
    "Epoch: 100%|██████████| 20/20 [09:07<00:00, 27.38s/it]\n",
    "75\n",
    "Epoch: 100%|██████████| 20/20 [09:23<00:00, 28.16s/it]\n",
    "80\n",
    "Epoch: 100%|██████████| 20/20 [09:55<00:00, 29.76s/it]\n",
    "85\n",
    "Epoch: 100%|██████████| 20/20 [10:06<00:00, 30.35s/it]\n",
    "90\n",
    "Epoch: 100%|██████████| 20/20 [10:18<00:00, 30.93s/it]\n",
    "95\n",
    "Epoch: 100%|██████████| 20/20 [10:24<00:00, 31.24s/it]\n",
    "100\n",
    "Epoch: 100%|██████████| 20/20 [10:51<00:00, 32.55s/it]\n",
    "105\n",
    "Epoch: 100%|██████████| 20/20 [10:54<00:00, 32.74s/it]\n",
    "110\n",
    "Epoch: 100%|██████████| 20/20 [11:19<00:00, 33.98s/it]\n",
    "115\n",
    "Epoch: 100%|██████████| 20/20 [11:24<00:00, 34.23s/it]\n",
    "120\n",
    "Epoch: 100%|██████████| 20/20 [11:36<00:00, 34.84s/it]\n",
    "'''\n",
    "import matplotlib.pyplot as plt\n",
    "time_strs = [elem[:5] for elem in s.split('[')[1:]]\n",
    "times = [int(elem[:2]) + int(elem[3:]) / 60 for elem in time_strs]\n",
    "x = list(range(5, 121, 5))\n",
    "plt.figure(figsize=(12, 7))\n",
    "plt.grid()\n",
    "plt.xticks(x)\n",
    "plt.plot(x, times, 'r', marker='o')\n",
    "plt.ylabel('minuts');\n",
    "plt.xlabel('number of factors');\n",
    "plt.title('Время обучения');"
   ]
  },
  {
   "cell_type": "markdown",
   "metadata": {},
   "source": [
    "Оценка"
   ]
  },
  {
   "cell_type": "code",
   "execution_count": 32,
   "metadata": {},
   "outputs": [],
   "source": [
    "def get_predicitons(model, N, num_threads=1):\n",
    "    res = np.empty((ones_train_sp_M.shape[0], N), dtype='int32')\n",
    "    for i in tqdm(range(ones_train_sp_M.shape[0])):\n",
    "        scores = model.predict(i, np.arange(ones_train_sp_M.shape[1]), num_threads=num_threads)\n",
    "        res[i] = np.argsort(-scores)[:N]\n",
    "    return res\n"
   ]
  },
  {
   "cell_type": "code",
   "execution_count": 9,
   "metadata": {},
   "outputs": [
    {
     "name": "stderr",
     "output_type": "stream",
     "text": [
      "  0%|          | 8/63011 [00:00<13:22, 78.48it/s]"
     ]
    },
    {
     "name": "stdout",
     "output_type": "stream",
     "text": [
      "5\n"
     ]
    },
    {
     "name": "stderr",
     "output_type": "stream",
     "text": [
      "100%|██████████| 63011/63011 [06:22<00:00, 164.73it/s]\n",
      "100%|██████████| 63011/63011 [00:12<00:00, 5017.61it/s]\n",
      "  0%|          | 0/63011 [00:00<?, ?it/s]<ipython-input-4-dcabd1360f17>:20: RuntimeWarning: invalid value encountered in double_scalars\n",
      "  return dcg/idcg\n",
      "100%|██████████| 63011/63011 [00:15<00:00, 4106.21it/s]\n",
      "/home/makuhich/.local/lib/python3.9/site-packages/numpy/core/_asarray.py:136: VisibleDeprecationWarning: Creating an ndarray from ragged nested sequences (which is a list-or-tuple of lists-or-tuples-or ndarrays with different lengths or shapes) is deprecated. If you meant to do this, you must specify 'dtype=object' when creating the ndarray\n",
      "  return array(a, dtype, copy=False, order=order, subok=True)\n",
      "  0%|          | 14/63011 [00:00<07:44, 135.60it/s]"
     ]
    },
    {
     "name": "stdout",
     "output_type": "stream",
     "text": [
      "hits: 0.041327299074659325 ndcg: 0.03731339697703681\n",
      "10\n"
     ]
    },
    {
     "name": "stderr",
     "output_type": "stream",
     "text": [
      "100%|██████████| 63011/63011 [06:55<00:00, 151.62it/s]\n",
      "100%|██████████| 63011/63011 [00:12<00:00, 4986.08it/s]\n",
      "100%|██████████| 63011/63011 [00:15<00:00, 4128.77it/s]\n",
      "  0%|          | 13/63011 [00:00<08:17, 126.63it/s]"
     ]
    },
    {
     "name": "stdout",
     "output_type": "stream",
     "text": [
      "hits: 0.04352720410909344 ndcg: 0.03914792655466591\n",
      "15\n"
     ]
    },
    {
     "name": "stderr",
     "output_type": "stream",
     "text": [
      "100%|██████████| 63011/63011 [07:03<00:00, 148.76it/s]\n",
      "100%|██████████| 63011/63011 [00:12<00:00, 4970.40it/s]\n",
      "100%|██████████| 63011/63011 [00:15<00:00, 4115.69it/s]\n",
      "  0%|          | 13/63011 [00:00<08:14, 127.52it/s]"
     ]
    },
    {
     "name": "stdout",
     "output_type": "stream",
     "text": [
      "hits: 0.04418374382017316 ndcg: 0.039910934870509895\n",
      "20\n"
     ]
    },
    {
     "name": "stderr",
     "output_type": "stream",
     "text": [
      "100%|██████████| 63011/63011 [07:22<00:00, 142.29it/s]\n",
      "100%|██████████| 63011/63011 [00:12<00:00, 4927.86it/s]\n",
      "100%|██████████| 63011/63011 [00:15<00:00, 4079.27it/s]\n",
      "  0%|          | 12/63011 [00:00<08:46, 119.67it/s]"
     ]
    },
    {
     "name": "stdout",
     "output_type": "stream",
     "text": [
      "hits: 0.045427781541145074 ndcg: 0.04071979672946343\n",
      "25\n"
     ]
    },
    {
     "name": "stderr",
     "output_type": "stream",
     "text": [
      "100%|██████████| 63011/63011 [07:18<00:00, 143.54it/s]\n",
      "100%|██████████| 63011/63011 [00:12<00:00, 4963.98it/s]\n",
      "100%|██████████| 63011/63011 [00:15<00:00, 4078.40it/s]\n",
      "  0%|          | 12/63011 [00:00<08:48, 119.24it/s]"
     ]
    },
    {
     "name": "stdout",
     "output_type": "stream",
     "text": [
      "hits: 0.045391420977540946 ndcg: 0.04070001721162617\n",
      "30\n"
     ]
    },
    {
     "name": "stderr",
     "output_type": "stream",
     "text": [
      "100%|██████████| 63011/63011 [07:41<00:00, 136.53it/s]\n",
      "100%|██████████| 63011/63011 [00:12<00:00, 4960.06it/s]\n",
      "100%|██████████| 63011/63011 [00:15<00:00, 4110.99it/s]\n",
      "  0%|          | 11/63011 [00:00<09:49, 106.84it/s]"
     ]
    },
    {
     "name": "stdout",
     "output_type": "stream",
     "text": [
      "hits: 0.0457592726432297 ndcg: 0.0407061034936599\n",
      "35\n"
     ]
    },
    {
     "name": "stderr",
     "output_type": "stream",
     "text": [
      "100%|██████████| 63011/63011 [07:32<00:00, 139.25it/s]\n",
      "100%|██████████| 63011/63011 [00:12<00:00, 4957.44it/s]\n",
      "100%|██████████| 63011/63011 [00:15<00:00, 4116.68it/s]\n",
      "  0%|          | 12/63011 [00:00<09:11, 114.13it/s]"
     ]
    },
    {
     "name": "stdout",
     "output_type": "stream",
     "text": [
      "hits: 0.04573285912107326 ndcg: 0.0407917673271521\n",
      "40\n"
     ]
    },
    {
     "name": "stderr",
     "output_type": "stream",
     "text": [
      "100%|██████████| 63011/63011 [07:33<00:00, 138.99it/s]\n",
      "100%|██████████| 63011/63011 [00:12<00:00, 4995.94it/s]\n",
      "100%|██████████| 63011/63011 [00:15<00:00, 4130.06it/s]\n",
      "  0%|          | 11/63011 [00:00<09:50, 106.65it/s]"
     ]
    },
    {
     "name": "stdout",
     "output_type": "stream",
     "text": [
      "hits: 0.04582497068350865 ndcg: 0.04082152312110981\n",
      "45\n"
     ]
    },
    {
     "name": "stderr",
     "output_type": "stream",
     "text": [
      "100%|██████████| 63011/63011 [08:01<00:00, 130.86it/s]\n",
      "100%|██████████| 63011/63011 [00:12<00:00, 4993.58it/s]\n",
      "100%|██████████| 63011/63011 [00:15<00:00, 4107.48it/s]\n",
      "  0%|          | 11/63011 [00:00<10:02, 104.64it/s]"
     ]
    },
    {
     "name": "stdout",
     "output_type": "stream",
     "text": [
      "hits: 0.04608884708613242 ndcg: 0.04128011189810617\n",
      "50\n"
     ]
    },
    {
     "name": "stderr",
     "output_type": "stream",
     "text": [
      "100%|██████████| 63011/63011 [07:51<00:00, 133.52it/s]\n",
      "100%|██████████| 63011/63011 [00:12<00:00, 5014.47it/s]\n",
      "100%|██████████| 63011/63011 [00:15<00:00, 4127.80it/s]\n",
      "  0%|          | 11/63011 [00:00<09:41, 108.31it/s]"
     ]
    },
    {
     "name": "stdout",
     "output_type": "stream",
     "text": [
      "hits: 0.046517842977766476 ndcg: 0.04121922853222336\n",
      "55\n"
     ]
    },
    {
     "name": "stderr",
     "output_type": "stream",
     "text": [
      "100%|██████████| 63011/63011 [08:14<00:00, 127.50it/s]\n",
      "100%|██████████| 63011/63011 [00:12<00:00, 5026.42it/s]\n",
      "100%|██████████| 63011/63011 [00:15<00:00, 4115.87it/s]\n",
      "  0%|          | 11/63011 [00:00<09:58, 105.21it/s]"
     ]
    },
    {
     "name": "stdout",
     "output_type": "stream",
     "text": [
      "hits: 0.04644438036926887 ndcg: 0.04139991173099567\n",
      "60\n"
     ]
    },
    {
     "name": "stderr",
     "output_type": "stream",
     "text": [
      "100%|██████████| 63011/63011 [08:12<00:00, 127.84it/s]\n",
      "100%|██████████| 63011/63011 [00:12<00:00, 4970.56it/s]\n",
      "100%|██████████| 63011/63011 [00:15<00:00, 4091.17it/s]\n",
      "  0%|          | 13/63011 [00:00<08:20, 125.83it/s]"
     ]
    },
    {
     "name": "stdout",
     "output_type": "stream",
     "text": [
      "hits: 0.04672985766077484 ndcg: 0.04155360698659794\n",
      "65\n"
     ]
    },
    {
     "name": "stderr",
     "output_type": "stream",
     "text": [
      "100%|██████████| 63011/63011 [08:23<00:00, 125.06it/s]\n",
      "100%|██████████| 63011/63011 [00:12<00:00, 4938.30it/s]\n",
      "100%|██████████| 63011/63011 [00:15<00:00, 4113.91it/s]\n",
      "  0%|          | 10/63011 [00:00<10:32, 99.53it/s]"
     ]
    },
    {
     "name": "stdout",
     "output_type": "stream",
     "text": [
      "hits: 0.047041251821875484 ndcg: 0.04174462820909854\n",
      "70\n"
     ]
    },
    {
     "name": "stderr",
     "output_type": "stream",
     "text": [
      "100%|██████████| 63011/63011 [08:34<00:00, 122.52it/s]\n",
      "100%|██████████| 63011/63011 [00:12<00:00, 4963.52it/s]\n",
      "100%|██████████| 63011/63011 [00:15<00:00, 4104.53it/s]\n",
      "  0%|          | 12/63011 [00:00<08:51, 118.64it/s]"
     ]
    },
    {
     "name": "stdout",
     "output_type": "stream",
     "text": [
      "hits: 0.04631695750920486 ndcg: 0.04100641927625076\n",
      "75\n"
     ]
    },
    {
     "name": "stderr",
     "output_type": "stream",
     "text": [
      "100%|██████████| 63011/63011 [08:37<00:00, 121.68it/s]\n",
      "100%|██████████| 63011/63011 [00:12<00:00, 4937.20it/s]\n",
      "100%|██████████| 63011/63011 [00:15<00:00, 4092.36it/s]\n",
      "  0%|          | 12/63011 [00:00<08:48, 119.28it/s]"
     ]
    },
    {
     "name": "stdout",
     "output_type": "stream",
     "text": [
      "hits: 0.04671220201196051 ndcg: 0.04156042167468052\n",
      "80\n"
     ]
    },
    {
     "name": "stderr",
     "output_type": "stream",
     "text": [
      "100%|██████████| 63011/63011 [08:40<00:00, 121.09it/s]\n",
      "100%|██████████| 63011/63011 [00:20<00:00, 3006.25it/s]\n",
      "100%|██████████| 63011/63011 [00:15<00:00, 4108.52it/s]\n",
      "  0%|          | 12/63011 [00:00<09:11, 114.14it/s]"
     ]
    },
    {
     "name": "stdout",
     "output_type": "stream",
     "text": [
      "hits: 0.046847263528326126 ndcg: 0.04154077537370601\n",
      "85\n"
     ]
    },
    {
     "name": "stderr",
     "output_type": "stream",
     "text": [
      "100%|██████████| 63011/63011 [08:56<00:00, 117.38it/s]\n",
      "100%|██████████| 63011/63011 [00:12<00:00, 4933.37it/s]\n",
      "100%|██████████| 63011/63011 [00:15<00:00, 4110.10it/s]\n",
      "  0%|          | 11/63011 [00:00<09:38, 108.89it/s]"
     ]
    },
    {
     "name": "stdout",
     "output_type": "stream",
     "text": [
      "hits: 0.04723000777576039 ndcg: 0.041509691595258885\n",
      "90\n"
     ]
    },
    {
     "name": "stderr",
     "output_type": "stream",
     "text": [
      "100%|██████████| 63011/63011 [09:06<00:00, 115.23it/s]\n",
      "100%|██████████| 63011/63011 [00:12<00:00, 4966.92it/s]\n",
      "100%|██████████| 63011/63011 [00:15<00:00, 4099.77it/s]\n",
      "  0%|          | 0/63011 [00:00<?, ?it/s]"
     ]
    },
    {
     "name": "stdout",
     "output_type": "stream",
     "text": [
      "hits: 0.04660232287900676 ndcg: 0.04151046464294778\n",
      "95\n"
     ]
    },
    {
     "name": "stderr",
     "output_type": "stream",
     "text": [
      " 47%|████▋     | 29805/63011 [04:29<04:59, 110.71it/s]\n"
     ]
    },
    {
     "ename": "KeyboardInterrupt",
     "evalue": "",
     "output_type": "error",
     "traceback": [
      "\u001b[0;31m---------------------------------------------------------------------------\u001b[0m",
      "\u001b[0;31mKeyboardInterrupt\u001b[0m                         Traceback (most recent call last)",
      "\u001b[0;32m<ipython-input-9-cb0938577bf1>\u001b[0m in \u001b[0;36m<module>\u001b[0;34m\u001b[0m\n\u001b[1;32m      6\u001b[0m     \u001b[0;32mwith\u001b[0m \u001b[0mopen\u001b[0m\u001b[0;34m(\u001b[0m\u001b[0;34mf'models_3/warp_model_factors({i}).sav'\u001b[0m\u001b[0;34m,\u001b[0m \u001b[0;34m'rb'\u001b[0m\u001b[0;34m)\u001b[0m \u001b[0;32mas\u001b[0m \u001b[0mf\u001b[0m\u001b[0;34m:\u001b[0m\u001b[0;34m\u001b[0m\u001b[0;34m\u001b[0m\u001b[0m\n\u001b[1;32m      7\u001b[0m         \u001b[0mmodel\u001b[0m \u001b[0;34m=\u001b[0m \u001b[0mpickle\u001b[0m\u001b[0;34m.\u001b[0m\u001b[0mload\u001b[0m\u001b[0;34m(\u001b[0m\u001b[0mf\u001b[0m\u001b[0;34m)\u001b[0m\u001b[0;34m\u001b[0m\u001b[0;34m\u001b[0m\u001b[0m\n\u001b[0;32m----> 8\u001b[0;31m     \u001b[0mpredictions\u001b[0m \u001b[0;34m=\u001b[0m \u001b[0mget_predicitons\u001b[0m\u001b[0;34m(\u001b[0m\u001b[0mmodel\u001b[0m\u001b[0;34m,\u001b[0m \u001b[0mk\u001b[0m\u001b[0;34m,\u001b[0m \u001b[0;36m8\u001b[0m\u001b[0;34m)\u001b[0m\u001b[0;34m\u001b[0m\u001b[0;34m\u001b[0m\u001b[0m\n\u001b[0m\u001b[1;32m      9\u001b[0m     \u001b[0mmodels_results\u001b[0m\u001b[0;34m[\u001b[0m\u001b[0mi\u001b[0m\u001b[0;34m]\u001b[0m \u001b[0;34m=\u001b[0m \u001b[0;34m[\u001b[0m\u001b[0;34m*\u001b[0m\u001b[0mcalc_dataset_metric\u001b[0m\u001b[0;34m(\u001b[0m\u001b[0mcalculate_hits_k\u001b[0m\u001b[0;34m,\u001b[0m \u001b[0mtest_sp_M\u001b[0m\u001b[0;34m,\u001b[0m \u001b[0mpredictions\u001b[0m\u001b[0;34m,\u001b[0m \u001b[0mk\u001b[0m\u001b[0;34m=\u001b[0m\u001b[0mk\u001b[0m\u001b[0;34m)\u001b[0m\u001b[0;34m,\u001b[0m \u001b[0;34m*\u001b[0m\u001b[0mcalc_dataset_metric\u001b[0m\u001b[0;34m(\u001b[0m\u001b[0mcalculate_ndcg_k\u001b[0m\u001b[0;34m,\u001b[0m \u001b[0mtest_sp_M\u001b[0m\u001b[0;34m,\u001b[0m \u001b[0mpredictions\u001b[0m\u001b[0;34m,\u001b[0m \u001b[0mk\u001b[0m\u001b[0;34m=\u001b[0m\u001b[0mk\u001b[0m\u001b[0;34m)\u001b[0m\u001b[0;34m]\u001b[0m\u001b[0;34m\u001b[0m\u001b[0;34m\u001b[0m\u001b[0m\n\u001b[1;32m     10\u001b[0m     \u001b[0mprint\u001b[0m\u001b[0;34m(\u001b[0m\u001b[0;34m'hits:'\u001b[0m\u001b[0;34m,\u001b[0m \u001b[0mmodels_results\u001b[0m\u001b[0;34m[\u001b[0m\u001b[0mi\u001b[0m\u001b[0;34m]\u001b[0m\u001b[0;34m[\u001b[0m\u001b[0;36m1\u001b[0m\u001b[0;34m]\u001b[0m\u001b[0;34m,\u001b[0m \u001b[0;34m'ndcg:'\u001b[0m\u001b[0;34m,\u001b[0m \u001b[0mmodels_results\u001b[0m\u001b[0;34m[\u001b[0m\u001b[0mi\u001b[0m\u001b[0;34m]\u001b[0m\u001b[0;34m[\u001b[0m\u001b[0;36m3\u001b[0m\u001b[0;34m]\u001b[0m\u001b[0;34m)\u001b[0m\u001b[0;34m\u001b[0m\u001b[0;34m\u001b[0m\u001b[0m\n",
      "\u001b[0;32m<ipython-input-7-c5eaa9431bf4>\u001b[0m in \u001b[0;36mget_predicitons\u001b[0;34m(model, N, num_threads)\u001b[0m\n\u001b[1;32m      2\u001b[0m     \u001b[0mres\u001b[0m \u001b[0;34m=\u001b[0m \u001b[0mnp\u001b[0m\u001b[0;34m.\u001b[0m\u001b[0mempty\u001b[0m\u001b[0;34m(\u001b[0m\u001b[0;34m(\u001b[0m\u001b[0mones_train_sp_M\u001b[0m\u001b[0;34m.\u001b[0m\u001b[0mshape\u001b[0m\u001b[0;34m[\u001b[0m\u001b[0;36m0\u001b[0m\u001b[0;34m]\u001b[0m\u001b[0;34m,\u001b[0m \u001b[0mN\u001b[0m\u001b[0;34m)\u001b[0m\u001b[0;34m,\u001b[0m \u001b[0mdtype\u001b[0m\u001b[0;34m=\u001b[0m\u001b[0;34m'int32'\u001b[0m\u001b[0;34m)\u001b[0m\u001b[0;34m\u001b[0m\u001b[0;34m\u001b[0m\u001b[0m\n\u001b[1;32m      3\u001b[0m     \u001b[0;32mfor\u001b[0m \u001b[0mi\u001b[0m \u001b[0;32min\u001b[0m \u001b[0mtqdm\u001b[0m\u001b[0;34m(\u001b[0m\u001b[0mrange\u001b[0m\u001b[0;34m(\u001b[0m\u001b[0mones_train_sp_M\u001b[0m\u001b[0;34m.\u001b[0m\u001b[0mshape\u001b[0m\u001b[0;34m[\u001b[0m\u001b[0;36m0\u001b[0m\u001b[0;34m]\u001b[0m\u001b[0;34m)\u001b[0m\u001b[0;34m)\u001b[0m\u001b[0;34m:\u001b[0m\u001b[0;34m\u001b[0m\u001b[0;34m\u001b[0m\u001b[0m\n\u001b[0;32m----> 4\u001b[0;31m         \u001b[0mscores\u001b[0m \u001b[0;34m=\u001b[0m \u001b[0mmodel\u001b[0m\u001b[0;34m.\u001b[0m\u001b[0mpredict\u001b[0m\u001b[0;34m(\u001b[0m\u001b[0mi\u001b[0m\u001b[0;34m,\u001b[0m \u001b[0mnp\u001b[0m\u001b[0;34m.\u001b[0m\u001b[0marange\u001b[0m\u001b[0;34m(\u001b[0m\u001b[0mones_train_sp_M\u001b[0m\u001b[0;34m.\u001b[0m\u001b[0mshape\u001b[0m\u001b[0;34m[\u001b[0m\u001b[0;36m1\u001b[0m\u001b[0;34m]\u001b[0m\u001b[0;34m)\u001b[0m\u001b[0;34m,\u001b[0m \u001b[0mnum_threads\u001b[0m\u001b[0;34m=\u001b[0m\u001b[0mnum_threads\u001b[0m\u001b[0;34m)\u001b[0m\u001b[0;34m\u001b[0m\u001b[0;34m\u001b[0m\u001b[0m\n\u001b[0m\u001b[1;32m      5\u001b[0m         \u001b[0mres\u001b[0m\u001b[0;34m[\u001b[0m\u001b[0mi\u001b[0m\u001b[0;34m]\u001b[0m \u001b[0;34m=\u001b[0m \u001b[0mnp\u001b[0m\u001b[0;34m.\u001b[0m\u001b[0margsort\u001b[0m\u001b[0;34m(\u001b[0m\u001b[0;34m-\u001b[0m\u001b[0mscores\u001b[0m\u001b[0;34m)\u001b[0m\u001b[0;34m[\u001b[0m\u001b[0;34m:\u001b[0m\u001b[0mN\u001b[0m\u001b[0;34m]\u001b[0m\u001b[0;34m\u001b[0m\u001b[0;34m\u001b[0m\u001b[0m\n\u001b[1;32m      6\u001b[0m     \u001b[0;32mreturn\u001b[0m \u001b[0mres\u001b[0m\u001b[0;34m\u001b[0m\u001b[0;34m\u001b[0m\u001b[0m\n",
      "\u001b[0;32m~/.local/lib/python3.9/site-packages/lightfm/lightfm.py\u001b[0m in \u001b[0;36mpredict\u001b[0;34m(self, user_ids, item_ids, item_features, user_features, num_threads)\u001b[0m\n\u001b[1;32m    815\u001b[0m         \u001b[0mn_items\u001b[0m \u001b[0;34m=\u001b[0m \u001b[0mitem_ids\u001b[0m\u001b[0;34m.\u001b[0m\u001b[0mmax\u001b[0m\u001b[0;34m(\u001b[0m\u001b[0;34m)\u001b[0m \u001b[0;34m+\u001b[0m \u001b[0;36m1\u001b[0m\u001b[0;34m\u001b[0m\u001b[0;34m\u001b[0m\u001b[0m\n\u001b[1;32m    816\u001b[0m \u001b[0;34m\u001b[0m\u001b[0m\n\u001b[0;32m--> 817\u001b[0;31m         (user_features, item_features) = self._construct_feature_matrices(\n\u001b[0m\u001b[1;32m    818\u001b[0m             \u001b[0mn_users\u001b[0m\u001b[0;34m,\u001b[0m \u001b[0mn_items\u001b[0m\u001b[0;34m,\u001b[0m \u001b[0muser_features\u001b[0m\u001b[0;34m,\u001b[0m \u001b[0mitem_features\u001b[0m\u001b[0;34m\u001b[0m\u001b[0;34m\u001b[0m\u001b[0m\n\u001b[1;32m    819\u001b[0m         )\n",
      "\u001b[0;32m~/.local/lib/python3.9/site-packages/lightfm/lightfm.py\u001b[0m in \u001b[0;36m_construct_feature_matrices\u001b[0;34m(self, n_users, n_items, user_features, item_features)\u001b[0m\n\u001b[1;32m    305\u001b[0m \u001b[0;34m\u001b[0m\u001b[0m\n\u001b[1;32m    306\u001b[0m         \u001b[0;32mif\u001b[0m \u001b[0mitem_features\u001b[0m \u001b[0;32mis\u001b[0m \u001b[0;32mNone\u001b[0m\u001b[0;34m:\u001b[0m\u001b[0;34m\u001b[0m\u001b[0;34m\u001b[0m\u001b[0m\n\u001b[0;32m--> 307\u001b[0;31m             \u001b[0mitem_features\u001b[0m \u001b[0;34m=\u001b[0m \u001b[0msp\u001b[0m\u001b[0;34m.\u001b[0m\u001b[0midentity\u001b[0m\u001b[0;34m(\u001b[0m\u001b[0mn_items\u001b[0m\u001b[0;34m,\u001b[0m \u001b[0mdtype\u001b[0m\u001b[0;34m=\u001b[0m\u001b[0mCYTHON_DTYPE\u001b[0m\u001b[0;34m,\u001b[0m \u001b[0mformat\u001b[0m\u001b[0;34m=\u001b[0m\u001b[0;34m\"csr\"\u001b[0m\u001b[0;34m)\u001b[0m\u001b[0;34m\u001b[0m\u001b[0;34m\u001b[0m\u001b[0m\n\u001b[0m\u001b[1;32m    308\u001b[0m         \u001b[0;32melse\u001b[0m\u001b[0;34m:\u001b[0m\u001b[0;34m\u001b[0m\u001b[0;34m\u001b[0m\u001b[0m\n\u001b[1;32m    309\u001b[0m             \u001b[0mitem_features\u001b[0m \u001b[0;34m=\u001b[0m \u001b[0mitem_features\u001b[0m\u001b[0;34m.\u001b[0m\u001b[0mtocsr\u001b[0m\u001b[0;34m(\u001b[0m\u001b[0;34m)\u001b[0m\u001b[0;34m\u001b[0m\u001b[0;34m\u001b[0m\u001b[0m\n",
      "\u001b[0;32m~/.local/lib/python3.9/site-packages/scipy/sparse/construct.py\u001b[0m in \u001b[0;36midentity\u001b[0;34m(n, dtype, format)\u001b[0m\n\u001b[1;32m    214\u001b[0m \u001b[0;34m\u001b[0m\u001b[0m\n\u001b[1;32m    215\u001b[0m     \"\"\"\n\u001b[0;32m--> 216\u001b[0;31m     \u001b[0;32mreturn\u001b[0m \u001b[0meye\u001b[0m\u001b[0;34m(\u001b[0m\u001b[0mn\u001b[0m\u001b[0;34m,\u001b[0m \u001b[0mn\u001b[0m\u001b[0;34m,\u001b[0m \u001b[0mdtype\u001b[0m\u001b[0;34m=\u001b[0m\u001b[0mdtype\u001b[0m\u001b[0;34m,\u001b[0m \u001b[0mformat\u001b[0m\u001b[0;34m=\u001b[0m\u001b[0mformat\u001b[0m\u001b[0;34m)\u001b[0m\u001b[0;34m\u001b[0m\u001b[0;34m\u001b[0m\u001b[0m\n\u001b[0m\u001b[1;32m    217\u001b[0m \u001b[0;34m\u001b[0m\u001b[0m\n\u001b[1;32m    218\u001b[0m \u001b[0;34m\u001b[0m\u001b[0m\n",
      "\u001b[0;32m~/.local/lib/python3.9/site-packages/scipy/sparse/construct.py\u001b[0m in \u001b[0;36meye\u001b[0;34m(m, n, k, dtype, format)\u001b[0m\n\u001b[1;32m    255\u001b[0m         \u001b[0;31m# fast branch for special formats\u001b[0m\u001b[0;34m\u001b[0m\u001b[0;34m\u001b[0m\u001b[0;34m\u001b[0m\u001b[0m\n\u001b[1;32m    256\u001b[0m         \u001b[0;32mif\u001b[0m \u001b[0mformat\u001b[0m \u001b[0;32min\u001b[0m \u001b[0;34m[\u001b[0m\u001b[0;34m'csr'\u001b[0m\u001b[0;34m,\u001b[0m \u001b[0;34m'csc'\u001b[0m\u001b[0;34m]\u001b[0m\u001b[0;34m:\u001b[0m\u001b[0;34m\u001b[0m\u001b[0;34m\u001b[0m\u001b[0m\n\u001b[0;32m--> 257\u001b[0;31m             \u001b[0midx_dtype\u001b[0m \u001b[0;34m=\u001b[0m \u001b[0mget_index_dtype\u001b[0m\u001b[0;34m(\u001b[0m\u001b[0mmaxval\u001b[0m\u001b[0;34m=\u001b[0m\u001b[0mn\u001b[0m\u001b[0;34m)\u001b[0m\u001b[0;34m\u001b[0m\u001b[0;34m\u001b[0m\u001b[0m\n\u001b[0m\u001b[1;32m    258\u001b[0m             \u001b[0mindptr\u001b[0m \u001b[0;34m=\u001b[0m \u001b[0mnp\u001b[0m\u001b[0;34m.\u001b[0m\u001b[0marange\u001b[0m\u001b[0;34m(\u001b[0m\u001b[0mn\u001b[0m\u001b[0;34m+\u001b[0m\u001b[0;36m1\u001b[0m\u001b[0;34m,\u001b[0m \u001b[0mdtype\u001b[0m\u001b[0;34m=\u001b[0m\u001b[0midx_dtype\u001b[0m\u001b[0;34m)\u001b[0m\u001b[0;34m\u001b[0m\u001b[0;34m\u001b[0m\u001b[0m\n\u001b[1;32m    259\u001b[0m             \u001b[0mindices\u001b[0m \u001b[0;34m=\u001b[0m \u001b[0mnp\u001b[0m\u001b[0;34m.\u001b[0m\u001b[0marange\u001b[0m\u001b[0;34m(\u001b[0m\u001b[0mn\u001b[0m\u001b[0;34m,\u001b[0m \u001b[0mdtype\u001b[0m\u001b[0;34m=\u001b[0m\u001b[0midx_dtype\u001b[0m\u001b[0;34m)\u001b[0m\u001b[0;34m\u001b[0m\u001b[0;34m\u001b[0m\u001b[0m\n",
      "\u001b[0;32m~/.local/lib/python3.9/site-packages/scipy/sparse/sputils.py\u001b[0m in \u001b[0;36mget_index_dtype\u001b[0;34m(arrays, maxval, check_contents)\u001b[0m\n\u001b[1;32m    140\u001b[0m \u001b[0;34m\u001b[0m\u001b[0m\n\u001b[1;32m    141\u001b[0m     \u001b[0mint32min\u001b[0m \u001b[0;34m=\u001b[0m \u001b[0mnp\u001b[0m\u001b[0;34m.\u001b[0m\u001b[0miinfo\u001b[0m\u001b[0;34m(\u001b[0m\u001b[0mnp\u001b[0m\u001b[0;34m.\u001b[0m\u001b[0mint32\u001b[0m\u001b[0;34m)\u001b[0m\u001b[0;34m.\u001b[0m\u001b[0mmin\u001b[0m\u001b[0;34m\u001b[0m\u001b[0;34m\u001b[0m\u001b[0m\n\u001b[0;32m--> 142\u001b[0;31m     \u001b[0mint32max\u001b[0m \u001b[0;34m=\u001b[0m \u001b[0mnp\u001b[0m\u001b[0;34m.\u001b[0m\u001b[0miinfo\u001b[0m\u001b[0;34m(\u001b[0m\u001b[0mnp\u001b[0m\u001b[0;34m.\u001b[0m\u001b[0mint32\u001b[0m\u001b[0;34m)\u001b[0m\u001b[0;34m.\u001b[0m\u001b[0mmax\u001b[0m\u001b[0;34m\u001b[0m\u001b[0;34m\u001b[0m\u001b[0m\n\u001b[0m\u001b[1;32m    143\u001b[0m \u001b[0;34m\u001b[0m\u001b[0m\n\u001b[1;32m    144\u001b[0m     \u001b[0mdtype\u001b[0m \u001b[0;34m=\u001b[0m \u001b[0mnp\u001b[0m\u001b[0;34m.\u001b[0m\u001b[0mintc\u001b[0m\u001b[0;34m\u001b[0m\u001b[0;34m\u001b[0m\u001b[0m\n",
      "\u001b[0;31mKeyboardInterrupt\u001b[0m: "
     ]
    }
   ],
   "source": [
    "import pickle\n",
    "k = 10\n",
    "models_results = dict()\n",
    "for i in range(5, 116, 5):\n",
    "    print(i)\n",
    "    with open(f'models_3/warp_model_factors({i}).sav', 'rb') as f:\n",
    "        model = pickle.load(f)\n",
    "    predictions = get_predicitons(model, k, 8)\n",
    "    models_results[i] = [*calc_dataset_metric(calculate_hits_k, test_sp_M, predictions, k=k), *calc_dataset_metric(calculate_ndcg_k, test_sp_M, predictions, k=k)]\n",
    "    print('hits:', models_results[i][1], 'ndcg:', models_results[i][3])\n",
    "    np.save(f'models_3/metrics/hits_ndcg({i})', models_results[i])\n",
    "    np.save(f'models_3/metrics/{k}predictions{i}', predictions)"
   ]
  },
  {
   "cell_type": "code",
   "execution_count": 31,
   "metadata": {},
   "outputs": [
    {
     "data": {
      "image/png": "[encoded data removed]",
      "text/plain": [
       "<Figure size 1080x504 with 1 Axes>"
      ]
     },
     "metadata": {
      "needs_background": "light"
     },
     "output_type": "display_data"
    }
   ],
   "source": [
    "import matplotlib.pyplot as plt\n",
    "metrics = dict()\n",
    "x = list()\n",
    "y = list()\n",
    "y2 = list()\n",
    "for i in range(5, 95, 5):\n",
    "    metrics[i] = np.load(f'models_3/metrics/hits_ndcg({i}).npy', allow_pickle=True)\n",
    "    x.append(i)\n",
    "    y.append(metrics[i][1])\n",
    "    y2.append(metrics[i][3])\n",
    "\n",
    "plt.figure(figsize=(15, 7))\n",
    "plt.plot(x, y, 'b', marker='o', label='hits(mean)')\n",
    "plt.plot(x, y2, 'r', marker='*', label='ndcg(mean)')\n",
    "plt.xticks(x)\n",
    "plt.grid()\n",
    "plt.legend()\n",
    "plt.title('Значение метрик на тестовом наборе с количеством рекомендаций = 10')\n",
    "plt.ylabel('Значение метрики')\n",
    "plt.xlabel('Число факторов');"
   ]
  },
  {
   "cell_type": "code",
   "execution_count": 16,
   "metadata": {},
   "outputs": [],
   "source": [
    "from lightfm.evaluation import precision_at_k"
   ]
  },
  {
   "cell_type": "code",
   "execution_count": 33,
   "metadata": {},
   "outputs": [],
   "source": [
    "import pickle\n",
    "with open(f'models_3/warp_model_factors(115).sav', 'rb') as f:\n",
    "    model = pickle.load(f)"
   ]
  },
  {
   "cell_type": "code",
   "execution_count": 23,
   "metadata": {},
   "outputs": [],
   "source": [
    "positive_ones_test_sp_M = ones_test_sp_M.multiply(ones_test_sp_M > 0)"
   ]
  },
  {
   "cell_type": "code",
   "execution_count": 34,
   "metadata": {},
   "outputs": [
    {
     "name": "stdout",
     "output_type": "stream",
     "text": [
      "CPU times: user 10min 14s, sys: 420 ms, total: 10min 14s\n",
      "Wall time: 1min 19s\n"
     ]
    }
   ],
   "source": [
    "%%time\n",
    "res = precision_at_k(model, positive_ones_test_sp_M, num_threads=8)"
   ]
  },
  {
   "cell_type": "code",
   "execution_count": 30,
   "metadata": {},
   "outputs": [
    {
     "data": {
      "text/plain": [
       "0.031471517"
      ]
     },
     "execution_count": 30,
     "metadata": {},
     "output_type": "execute_result"
    }
   ],
   "source": [
    "res.mean()"
   ]
  },
  {
   "cell_type": "markdown",
   "metadata": {},
   "source": [
    "Рекомендации"
   ]
  },
  {
   "cell_type": "code",
   "execution_count": 35,
   "metadata": {},
   "outputs": [],
   "source": [
    "m_url_id_df = pd.read_csv('clipped_movies_ids.csv', sep='|')\n",
    "m_id_url_dict = dict((id, url) for url, id in m_url_id_df.values)\n",
    "def movie_id_to_url(movie_ids, m_id_url_dict):\n",
    "    return [m_id_url_dict[elem] for elem in movie_ids]"
   ]
  },
  {
   "cell_type": "code",
   "execution_count": 36,
   "metadata": {},
   "outputs": [],
   "source": [
    "u_url_id_df = pd.read_csv('users_ids.csv', sep='|')\n",
    "u_id_url_dict = dict((id, url) for url, id in u_url_id_df.values)\n",
    "def users_id_to_url(users_ids, u_id_url_dict):\n",
    "    return [u_id_url_dict[elem] for elem in users_ids]"
   ]
  },
  {
   "cell_type": "code",
   "execution_count": 37,
   "metadata": {},
   "outputs": [],
   "source": [
    "import pickle\n",
    "with open(f'models_3/warp_model_factors(115).sav', 'rb') as f:\n",
    "    model = pickle.load(f)"
   ]
  },
  {
   "cell_type": "code",
   "execution_count": 40,
   "metadata": {},
   "outputs": [],
   "source": [
    "user_id = 1"
   ]
  },
  {
   "cell_type": "code",
   "execution_count": 41,
   "metadata": {},
   "outputs": [
    {
     "data": {
      "text/plain": [
       "['/user/5899266/']"
      ]
     },
     "execution_count": 41,
     "metadata": {},
     "output_type": "execute_result"
    }
   ],
   "source": [
    "users_id_to_url([user_id], u_id_url_dict)"
   ]
  },
  {
   "cell_type": "code",
   "execution_count": 45,
   "metadata": {},
   "outputs": [
    {
     "data": {
      "text/plain": [
       "['/film/29416/',\n",
       " '/film/160343/',\n",
       " '/film/50802/',\n",
       " '/film/102652/',\n",
       " '/film/392220/',\n",
       " '/film/126508/',\n",
       " '/film/50158/',\n",
       " '/film/175045/',\n",
       " '/film/83622/',\n",
       " '/film/103347/']"
      ]
     },
     "execution_count": 45,
     "metadata": {},
     "output_type": "execute_result"
    }
   ],
   "source": [
    "[m_id_url_dict[elem] for elem in model.predict(user_id, np.arange(ones_train_sp_M.shape[1])).argsort()[:10]]"
   ]
  },
  {
   "cell_type": "code",
   "execution_count": null,
   "metadata": {},
   "outputs": [],
   "source": []
  }
 ],
 "metadata": {
  "kernelspec": {
   "display_name": "Python 3",
   "language": "python",
   "name": "python3"
  },
  "language_info": {
   "codemirror_mode": {
    "name": "ipython",
    "version": 3
   },
   "file_extension": ".py",
   "mimetype": "text/x-python",
   "name": "python",
   "nbconvert_exporter": "python",
   "pygments_lexer": "ipython3",
   "version": "3.8.4"
  }
 },
 "nbformat": 4,
 "nbformat_minor": 5
}
